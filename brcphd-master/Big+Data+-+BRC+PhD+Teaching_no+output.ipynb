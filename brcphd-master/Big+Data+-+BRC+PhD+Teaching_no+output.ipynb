{
 "cells": [
  {
   "cell_type": "code",
   "execution_count": null,
   "metadata": {},
   "outputs": [],
   "source": [
    "# Big Data Analytics in Python\n",
    "\n",
    "## Dr. Sagar Jilka\n",
    "### BRC PhD Teaching, 5th Feb 2019\n"
   ]
  },
  {
   "cell_type": "markdown",
   "metadata": {},
   "source": [
    "After completing this course, you should be able to:\n",
    "1.\tDemonstrate familiarity with the Python language and the Jupyter Notebook environment\n",
    "\n",
    "2.\tUnderstand and demonstrate familiarity with working with raw data, e.g.\n",
    "a.\tMerging datasets\n",
    "b.\tWorking with missing data\n",
    "c.\tAggregating data\n",
    "d.\tBasic plotting\n",
    "\n",
    "3.\tSummarize and analyse data in Python, based on statistics already familiar to you, e.g.:\n",
    "a.\tObtaining descriptive statistics (mean, median, SD, etc)\n",
    "b.\tT-test (+sig., df)\n",
    "c.\tCorrelation (+sig., r)\n",
    "d.\tANOVA\n",
    "\n",
    "4.\tExplore data through familiar and advanced visualisation techniques, including:\n",
    "a.\tPreviously introduced histograms\n",
    "b.\tNew ways of data visualisation and graph manipulation\n",
    "\n",
    "5.\tExplore a deeper understanding of industry level data science, including Learning the basics about machine learning and building machine learning models.\n"
   ]
  },
  {
   "cell_type": "markdown",
   "metadata": {
    "collapsed": true
   },
   "source": [
    "# What is Python?"
   ]
  },
  {
   "cell_type": "markdown",
   "metadata": {},
   "source": [
    "Python is a powerful programming language created by Guido van Rossum. \n"
   ]
  },
  {
   "cell_type": "markdown",
   "metadata": {
    "collapsed": true
   },
   "source": [
    "![title](..\\Sagar_Guido.jpg)"
   ]
  },
  {
   "cell_type": "markdown",
   "metadata": {},
   "source": [
    "It has simple easy-to-use syntax:\n",
    "\n",
    "Lets take a quick look at the “Zen of Python”\n",
    "\n",
    "type import this"
   ]
  },
  {
   "cell_type": "code",
   "execution_count": 1,
   "metadata": {},
   "outputs": [
    {
     "name": "stdout",
     "output_type": "stream",
     "text": [
      "The Zen of Python, by Tim Peters\n",
      "\n",
      "Beautiful is better than ugly.\n",
      "Explicit is better than implicit.\n",
      "Simple is better than complex.\n",
      "Complex is better than complicated.\n",
      "Flat is better than nested.\n",
      "Sparse is better than dense.\n",
      "Readability counts.\n",
      "Special cases aren't special enough to break the rules.\n",
      "Although practicality beats purity.\n",
      "Errors should never pass silently.\n",
      "Unless explicitly silenced.\n",
      "In the face of ambiguity, refuse the temptation to guess.\n",
      "There should be one-- and preferably only one --obvious way to do it.\n",
      "Although that way may not be obvious at first unless you're Dutch.\n",
      "Now is better than never.\n",
      "Although never is often better than *right* now.\n",
      "If the implementation is hard to explain, it's a bad idea.\n",
      "If the implementation is easy to explain, it may be a good idea.\n",
      "Namespaces are one honking great idea -- let's do more of those!\n"
     ]
    }
   ],
   "source": [
    "import this"
   ]
  },
  {
   "cell_type": "raw",
   "metadata": {},
   "source": [
    "See here for cool interpretation --> https://speakerdeck.com/bhoomika10/the-zen-of-python?slide=9"
   ]
  },
  {
   "cell_type": "markdown",
   "metadata": {},
   "source": [
    "### Downloading Python "
   ]
  },
  {
   "cell_type": "markdown",
   "metadata": {},
   "source": [
    "You can downloaded from www.python.org\n",
    "\n",
    "However, best to download a scientific python distribution such as anaconda https://www.anaconda.com/download\n",
    "Choose Python 3 (Python 2.7 and 3.0 have a few subtle differences in syntax – 3.0 has more help available online so easier to use, 2 will also soon stop being supported... :(\n"
   ]
  },
  {
   "cell_type": "markdown",
   "metadata": {},
   "source": [
    "### What is an IDE?\n",
    "\n",
    "IDE = Integrated Development Environment\n",
    "\n",
    "A program for writing/running scripts\n",
    "\n",
    "Makes it easy to write and run code in one program\n",
    "\n",
    "‘Jupyter’ is a good IDE that comes with the Anaconda installation, as you can see ;)"
   ]
  },
  {
   "cell_type": "markdown",
   "metadata": {},
   "source": [
    "# (1) Basic Python "
   ]
  },
  {
   "cell_type": "markdown",
   "metadata": {},
   "source": [
    "#### Variables\n",
    "\n",
    "A variable stores some sort of data\n",
    "\n",
    "The value of a variable is assigned using a single =\n"
   ]
  },
  {
   "cell_type": "code",
   "execution_count": 2,
   "metadata": {},
   "outputs": [],
   "source": [
    "my_variable = \"Hello folks\""
   ]
  },
  {
   "cell_type": "code",
   "execution_count": 3,
   "metadata": {},
   "outputs": [
    {
     "name": "stdout",
     "output_type": "stream",
     "text": [
      "Hello folks\n"
     ]
    }
   ],
   "source": [
    "print(my_variable)"
   ]
  },
  {
   "cell_type": "code",
   "execution_count": 4,
   "metadata": {},
   "outputs": [],
   "source": [
    "my_variable = 1\n",
    "myVar = 2"
   ]
  },
  {
   "cell_type": "code",
   "execution_count": 5,
   "metadata": {},
   "outputs": [
    {
     "data": {
      "text/plain": [
       "3"
      ]
     },
     "execution_count": 5,
     "metadata": {},
     "output_type": "execute_result"
    }
   ],
   "source": [
    "my_variable + myVar"
   ]
  },
  {
   "cell_type": "markdown",
   "metadata": {},
   "source": [
    "##### Heads up - naming!\n",
    "\n",
    "If you want to name give a variable a name containing multiple words there are two accepted methods:\n",
    "\n",
    "camelCase = using uppercase letters \n",
    "using_underscores\n",
    "\n",
    "Personal preference – although official Python style suggests using underscores\n"
   ]
  },
  {
   "cell_type": "markdown",
   "metadata": {},
   "source": [
    "#### Data Types\n",
    "\n",
    "Basic data types include strings, integers, floats\n",
    "\n",
    "String = text (Indicated by wrapping the text in quotes (‘’, or “”) E.g. “hello world”)\n",
    "\n",
    "Integer = whole numbers (E.g. 5)\n",
    "\n",
    "Float = numbers with decimals (E.g. 2.351)\n",
    "\n",
    "Boolean = True or False (Use the command True or False)"
   ]
  },
  {
   "cell_type": "code",
   "execution_count": null,
   "metadata": {
    "collapsed": true
   },
   "outputs": [],
   "source": [
    "myVar2 = \"Twenty\"\n",
    "myVar3 = 20\n",
    "myVar4 = 20.1\n",
    "myVar5 = True"
   ]
  },
  {
   "cell_type": "code",
   "execution_count": null,
   "metadata": {},
   "outputs": [],
   "source": [
    "print(myVar4)"
   ]
  },
  {
   "cell_type": "markdown",
   "metadata": {},
   "source": [
    "#### Maths\n",
    "\n",
    "Python can perform mathematical operations on integers or floats\n",
    "\n",
    "Add +\n",
    "\n",
    "Subtract –\n",
    "\n",
    "Divide / \n",
    "\n",
    "Multiply *\n",
    "\n",
    "Modulo % (gives remainder of a division)"
   ]
  },
  {
   "cell_type": "markdown",
   "metadata": {},
   "source": [
    "## Quick tasks 1 & 2\n",
    "\n",
    "(1) Create 4 variables representing a string, an integer, a float, and a Boolean\n",
    "\n",
    "(2) A chocolate factory packs 20 bars into each box. Today they produced 1000 bars of chocolate. Write an algorithm to calculate and output the number of full boxes produced in a day.\n",
    "\n",
    "\n",
    "(Reminder: string = text, integer = whole number, float = decimals, boolean = True/False)\n"
   ]
  },
  {
   "cell_type": "code",
   "execution_count": null,
   "metadata": {},
   "outputs": [],
   "source": [
    "#2 in simple form\n",
    "numberOfBars = 1000\n",
    "numberOfBoxes = (numberOfBars / 20)\n",
    "print(numberOfBoxes)"
   ]
  },
  {
   "cell_type": "code",
   "execution_count": null,
   "metadata": {},
   "outputs": [],
   "source": [
    "#2 in slightly more complicated form.\n",
    "\n",
    "numberOfBars = int(input(\"Enter number of bars produced : \"))\n",
    "numberOfBoxes = (numberOfBars/20) \n",
    "print(\"\\n**\", numberOfBoxes , \"'full' boxes have been produced.**\")\n"
   ]
  },
  {
   "cell_type": "markdown",
   "metadata": {},
   "source": [
    "#### Lists, dictionaries, tuples\n",
    "\n",
    "Lists are what they seem - a list of values. Each one of them is numbered, starting from zero. You can remove values from the list, and add new values to the end.\n",
    "\n",
    "Tuples are just like lists, but you can't change their values. The values that you give it first up, are the values that you are stuck with for the rest of the program. Again, each value is numbered starting from zero. \n",
    "\n",
    "Dictionaries are similar to what their name suggests - a dictionary. In a dictionary, you have an 'index' of words, and for each of them a definition. In python, the word is called a 'key', and the definition a 'value'. The values in a dictionary aren't numbered - they aren't in any specific order, either - the key does the same thing. You can add, remove, and modify the values in dictionaries."
   ]
  },
  {
   "cell_type": "code",
   "execution_count": null,
   "metadata": {
    "collapsed": true
   },
   "outputs": [],
   "source": [
    "myList = [1, 2, 3, 4, 5, \"Captain\", \"America\"]"
   ]
  },
  {
   "cell_type": "code",
   "execution_count": null,
   "metadata": {},
   "outputs": [],
   "source": [
    "print(myList)\n",
    "myList[5]"
   ]
  },
  {
   "cell_type": "code",
   "execution_count": null,
   "metadata": {
    "collapsed": true
   },
   "outputs": [],
   "source": [
    "myList.append(\"Avengers\")"
   ]
  },
  {
   "cell_type": "code",
   "execution_count": null,
   "metadata": {},
   "outputs": [],
   "source": [
    "myList"
   ]
  },
  {
   "cell_type": "code",
   "execution_count": null,
   "metadata": {
    "collapsed": true
   },
   "outputs": [],
   "source": [
    "myList2 = [975, 2454, 'Hello']"
   ]
  },
  {
   "cell_type": "code",
   "execution_count": null,
   "metadata": {
    "collapsed": true
   },
   "outputs": [],
   "source": []
  },
  {
   "cell_type": "code",
   "execution_count": null,
   "metadata": {
    "collapsed": true
   },
   "outputs": [],
   "source": [
    "myTuple = ('January','February','March','April','May','June','July','August','September','October','November','  December')"
   ]
  },
  {
   "cell_type": "code",
   "execution_count": null,
   "metadata": {
    "collapsed": true
   },
   "outputs": [],
   "source": [
    "#myTuple.append('sadf')"
   ]
  },
  {
   "cell_type": "code",
   "execution_count": null,
   "metadata": {},
   "outputs": [],
   "source": [
    "myTuple[0]"
   ]
  },
  {
   "cell_type": "code",
   "execution_count": null,
   "metadata": {
    "collapsed": true
   },
   "outputs": [],
   "source": [
    "#Make the phone book:\n",
    "phonebook = {'Andrew Parson':8806336, \\\n",
    "'Emily Everett':6784346, 'Peter Power':7658344, \\\n",
    "'Lewis Lame':1122345}"
   ]
  },
  {
   "cell_type": "code",
   "execution_count": null,
   "metadata": {},
   "outputs": [],
   "source": [
    "phonebook"
   ]
  },
  {
   "cell_type": "code",
   "execution_count": null,
   "metadata": {
    "collapsed": true
   },
   "outputs": [],
   "source": [
    "phonebook['Gingerbread Man'] = 1234567"
   ]
  },
  {
   "cell_type": "code",
   "execution_count": null,
   "metadata": {},
   "outputs": [],
   "source": [
    "phonebook"
   ]
  },
  {
   "cell_type": "code",
   "execution_count": null,
   "metadata": {
    "collapsed": true
   },
   "outputs": [],
   "source": [
    "## Good website: http://sthurlow.com/python/lesson06/"
   ]
  },
  {
   "cell_type": "markdown",
   "metadata": {},
   "source": [
    "#### Loops"
   ]
  },
  {
   "cell_type": "code",
   "execution_count": null,
   "metadata": {},
   "outputs": [],
   "source": [
    "for i in myList:\n",
    "    print(i)"
   ]
  },
  {
   "cell_type": "code",
   "execution_count": null,
   "metadata": {
    "collapsed": true
   },
   "outputs": [],
   "source": []
  },
  {
   "cell_type": "markdown",
   "metadata": {},
   "source": [
    "# (2) Working with data "
   ]
  },
  {
   "cell_type": "markdown",
   "metadata": {},
   "source": [
    "Python has many powerful packages to help us analyse data. The most commonly used are Numpy and Pandas.\n",
    "\n",
    "Pandas stands for “Python Data Analysis Library”. It's great for dealing with spreadsheet-style data – by creating ‘Dataframes’. You can then easily select columns from datasets and apply functions to them."
   ]
  },
  {
   "cell_type": "markdown",
   "metadata": {},
   "source": [
    "#### Pandas \n",
    "\n",
    "Now we will do some actual analysis with real life data using Pandas. The plan is:\n",
    "\n",
    "1) Read in a csv file for analysis\n",
    "\n",
    "2) Understand pandas and dataframes\n",
    "\n",
    "3) Clean and pre-process data (e.g. fill missing values)\n",
    "\n",
    "4) Compute basic stats\n",
    "\n",
    "5) Merge datasets\n",
    "\n",
    "6) Aggregate data"
   ]
  },
  {
   "cell_type": "code",
   "execution_count": 1,
   "metadata": {},
   "outputs": [],
   "source": [
    "# Your Anaconda Python distribution comes with Pandas ready to use. All you have to do to use it is ‘import’ pandas. \n",
    "# Common abbreviation to use is ‘pd’ as below. \n",
    "\n",
    "import pandas as pd"
   ]
  },
  {
   "cell_type": "code",
   "execution_count": 7,
   "metadata": {},
   "outputs": [
    {
     "name": "stdout",
     "output_type": "stream",
     "text": [
      "C:\\Users\\K1774755\\PycharmProjects\\aurelie_NLP\\brcphd-master\n"
     ]
    }
   ],
   "source": [
    "# you can see your current path by typing !cd\n",
    "!cd"
   ]
  },
  {
   "cell_type": "code",
   "execution_count": 2,
   "metadata": {},
   "outputs": [],
   "source": [
    "# explore pandas read_ function. You can import all sorts of files, e.g. excel, html, sql etc...\n",
    "# explore the function arguments by hitting tab inside the green parantheses.\n",
    "# the below function will import the data based on your arguments and create a dataframe assigned to the variable called ratings\n",
    "\n",
    "df = pd.read_csv(\"brain_size_clindata.csv\")"
   ]
  },
  {
   "cell_type": "code",
   "execution_count": 3,
   "metadata": {
    "scrolled": true
   },
   "outputs": [
    {
     "data": {
      "text/html": [
       "<div>\n",
       "<style scoped>\n",
       "    .dataframe tbody tr th:only-of-type {\n",
       "        vertical-align: middle;\n",
       "    }\n",
       "\n",
       "    .dataframe tbody tr th {\n",
       "        vertical-align: top;\n",
       "    }\n",
       "\n",
       "    .dataframe thead th {\n",
       "        text-align: right;\n",
       "    }\n",
       "</style>\n",
       "<table border=\"1\" class=\"dataframe\">\n",
       "  <thead>\n",
       "    <tr style=\"text-align: right;\">\n",
       "      <th></th>\n",
       "      <th>Unnamed: 0</th>\n",
       "      <th>ppt_id</th>\n",
       "      <th>FSIQ</th>\n",
       "      <th>VIQ</th>\n",
       "      <th>PIQ</th>\n",
       "      <th>MRI_Count</th>\n",
       "    </tr>\n",
       "  </thead>\n",
       "  <tbody>\n",
       "    <tr>\n",
       "      <th>0</th>\n",
       "      <td>0</td>\n",
       "      <td>1</td>\n",
       "      <td>133</td>\n",
       "      <td>132</td>\n",
       "      <td>124</td>\n",
       "      <td>816932</td>\n",
       "    </tr>\n",
       "    <tr>\n",
       "      <th>1</th>\n",
       "      <td>1</td>\n",
       "      <td>2</td>\n",
       "      <td>140</td>\n",
       "      <td>150</td>\n",
       "      <td>124</td>\n",
       "      <td>1001121</td>\n",
       "    </tr>\n",
       "    <tr>\n",
       "      <th>2</th>\n",
       "      <td>2</td>\n",
       "      <td>3</td>\n",
       "      <td>139</td>\n",
       "      <td>123</td>\n",
       "      <td>150</td>\n",
       "      <td>1038437</td>\n",
       "    </tr>\n",
       "    <tr>\n",
       "      <th>3</th>\n",
       "      <td>3</td>\n",
       "      <td>4</td>\n",
       "      <td>133</td>\n",
       "      <td>129</td>\n",
       "      <td>128</td>\n",
       "      <td>965353</td>\n",
       "    </tr>\n",
       "    <tr>\n",
       "      <th>4</th>\n",
       "      <td>4</td>\n",
       "      <td>5</td>\n",
       "      <td>137</td>\n",
       "      <td>132</td>\n",
       "      <td>134</td>\n",
       "      <td>951545</td>\n",
       "    </tr>\n",
       "  </tbody>\n",
       "</table>\n",
       "</div>"
      ],
      "text/plain": [
       "   Unnamed: 0  ppt_id  FSIQ  VIQ  PIQ  MRI_Count\n",
       "0           0       1   133  132  124     816932\n",
       "1           1       2   140  150  124    1001121\n",
       "2           2       3   139  123  150    1038437\n",
       "3           3       4   133  129  128     965353\n",
       "4           4       5   137  132  134     951545"
      ]
     },
     "execution_count": 3,
     "metadata": {},
     "output_type": "execute_result"
    }
   ],
   "source": [
    "df.head()"
   ]
  },
  {
   "cell_type": "code",
   "execution_count": 18,
   "metadata": {
    "scrolled": true
   },
   "outputs": [
    {
     "data": {
      "text/html": [
       "<div>\n",
       "<style scoped>\n",
       "    .dataframe tbody tr th:only-of-type {\n",
       "        vertical-align: middle;\n",
       "    }\n",
       "\n",
       "    .dataframe tbody tr th {\n",
       "        vertical-align: top;\n",
       "    }\n",
       "\n",
       "    .dataframe thead th {\n",
       "        text-align: right;\n",
       "    }\n",
       "</style>\n",
       "<table border=\"1\" class=\"dataframe\">\n",
       "  <thead>\n",
       "    <tr style=\"text-align: right;\">\n",
       "      <th></th>\n",
       "      <th>Unnamed: 0</th>\n",
       "      <th>ppt_id</th>\n",
       "      <th>FSIQ</th>\n",
       "      <th>VIQ</th>\n",
       "      <th>PIQ</th>\n",
       "      <th>MRI_Count</th>\n",
       "    </tr>\n",
       "  </thead>\n",
       "  <tbody>\n",
       "    <tr>\n",
       "      <th>30</th>\n",
       "      <td>30</td>\n",
       "      <td>31</td>\n",
       "      <td>133</td>\n",
       "      <td>126</td>\n",
       "      <td>132</td>\n",
       "      <td>857782</td>\n",
       "    </tr>\n",
       "    <tr>\n",
       "      <th>32</th>\n",
       "      <td>32</td>\n",
       "      <td>33</td>\n",
       "      <td>103</td>\n",
       "      <td>96</td>\n",
       "      <td>110</td>\n",
       "      <td>997925</td>\n",
       "    </tr>\n",
       "    <tr>\n",
       "      <th>34</th>\n",
       "      <td>34</td>\n",
       "      <td>35</td>\n",
       "      <td>83</td>\n",
       "      <td>90</td>\n",
       "      <td>81</td>\n",
       "      <td>834344</td>\n",
       "    </tr>\n",
       "    <tr>\n",
       "      <th>36</th>\n",
       "      <td>36</td>\n",
       "      <td>37</td>\n",
       "      <td>140</td>\n",
       "      <td>150</td>\n",
       "      <td>124</td>\n",
       "      <td>949395</td>\n",
       "    </tr>\n",
       "    <tr>\n",
       "      <th>38</th>\n",
       "      <td>38</td>\n",
       "      <td>39</td>\n",
       "      <td>81</td>\n",
       "      <td>90</td>\n",
       "      <td>74</td>\n",
       "      <td>930016</td>\n",
       "    </tr>\n",
       "  </tbody>\n",
       "</table>\n",
       "</div>"
      ],
      "text/plain": [
       "    Unnamed: 0  ppt_id  FSIQ  VIQ  PIQ  MRI_Count\n",
       "30          30      31   133  126  132     857782\n",
       "32          32      33   103   96  110     997925\n",
       "34          34      35    83   90   81     834344\n",
       "36          36      37   140  150  124     949395\n",
       "38          38      39    81   90   74     930016"
      ]
     },
     "execution_count": 18,
     "metadata": {},
     "output_type": "execute_result"
    }
   ],
   "source": [
    "# you can view your new dataframe by typing the variable name\n",
    "#df\n",
    "\n",
    "# you can view the first five rows by typing .head() after the variable name\n",
    "#df.head()\n",
    "\n",
    "# you can view the last five rows by typing .tail() after the variable name\n",
    "#df.tail()\n",
    "\n",
    "# Slicing: you can select a particular portion of the dataframe (i.e. slicing) by telling python which rows you want to slice inside []\n",
    "#df[22:25]\n",
    "\n",
    "# Experiment with slicing e.g. df[:30] vs. df[30::2]\n",
    "\n",
    "\n",
    "df[30::2]"
   ]
  },
  {
   "cell_type": "code",
   "execution_count": 4,
   "metadata": {},
   "outputs": [],
   "source": [
    "# Now we need to import the ppt information dataset\n",
    "\n",
    "df2 = pd.read_csv(\"brain_size_ppts.csv\")"
   ]
  },
  {
   "cell_type": "code",
   "execution_count": 20,
   "metadata": {},
   "outputs": [
    {
     "data": {
      "text/html": [
       "<div>\n",
       "<style scoped>\n",
       "    .dataframe tbody tr th:only-of-type {\n",
       "        vertical-align: middle;\n",
       "    }\n",
       "\n",
       "    .dataframe tbody tr th {\n",
       "        vertical-align: top;\n",
       "    }\n",
       "\n",
       "    .dataframe thead th {\n",
       "        text-align: right;\n",
       "    }\n",
       "</style>\n",
       "<table border=\"1\" class=\"dataframe\">\n",
       "  <thead>\n",
       "    <tr style=\"text-align: right;\">\n",
       "      <th></th>\n",
       "      <th>Unnamed: 0</th>\n",
       "      <th>ppt_id</th>\n",
       "      <th>Gender</th>\n",
       "      <th>Weight</th>\n",
       "      <th>Height</th>\n",
       "      <th>Diagnosed</th>\n",
       "    </tr>\n",
       "  </thead>\n",
       "  <tbody>\n",
       "    <tr>\n",
       "      <th>0</th>\n",
       "      <td>0</td>\n",
       "      <td>1</td>\n",
       "      <td>Female</td>\n",
       "      <td>118.0</td>\n",
       "      <td>645.0</td>\n",
       "      <td>Yes</td>\n",
       "    </tr>\n",
       "    <tr>\n",
       "      <th>1</th>\n",
       "      <td>1</td>\n",
       "      <td>2</td>\n",
       "      <td>Male</td>\n",
       "      <td>NaN</td>\n",
       "      <td>725.0</td>\n",
       "      <td>No</td>\n",
       "    </tr>\n",
       "    <tr>\n",
       "      <th>2</th>\n",
       "      <td>2</td>\n",
       "      <td>3</td>\n",
       "      <td>Male</td>\n",
       "      <td>143.0</td>\n",
       "      <td>733.0</td>\n",
       "      <td>Yes</td>\n",
       "    </tr>\n",
       "    <tr>\n",
       "      <th>3</th>\n",
       "      <td>3</td>\n",
       "      <td>4</td>\n",
       "      <td>Male</td>\n",
       "      <td>172.0</td>\n",
       "      <td>688.0</td>\n",
       "      <td>No</td>\n",
       "    </tr>\n",
       "    <tr>\n",
       "      <th>4</th>\n",
       "      <td>4</td>\n",
       "      <td>5</td>\n",
       "      <td>Female</td>\n",
       "      <td>147.0</td>\n",
       "      <td>65.0</td>\n",
       "      <td>Yes</td>\n",
       "    </tr>\n",
       "  </tbody>\n",
       "</table>\n",
       "</div>"
      ],
      "text/plain": [
       "   Unnamed: 0  ppt_id  Gender  Weight  Height Diagnosed\n",
       "0           0       1  Female   118.0   645.0       Yes\n",
       "1           1       2    Male     NaN   725.0        No\n",
       "2           2       3    Male   143.0   733.0       Yes\n",
       "3           3       4    Male   172.0   688.0        No\n",
       "4           4       5  Female   147.0    65.0       Yes"
      ]
     },
     "execution_count": 20,
     "metadata": {},
     "output_type": "execute_result"
    }
   ],
   "source": [
    "df2.head()"
   ]
  },
  {
   "cell_type": "code",
   "execution_count": 21,
   "metadata": {},
   "outputs": [],
   "source": [
    "# use slicing to remove the random 'unnamed:0' column from df2\n",
    "df2 = df2[['ppt_id' , 'Gender' , 'Weight' , 'Height']]"
   ]
  },
  {
   "cell_type": "code",
   "execution_count": 22,
   "metadata": {},
   "outputs": [
    {
     "data": {
      "text/html": [
       "<div>\n",
       "<style scoped>\n",
       "    .dataframe tbody tr th:only-of-type {\n",
       "        vertical-align: middle;\n",
       "    }\n",
       "\n",
       "    .dataframe tbody tr th {\n",
       "        vertical-align: top;\n",
       "    }\n",
       "\n",
       "    .dataframe thead th {\n",
       "        text-align: right;\n",
       "    }\n",
       "</style>\n",
       "<table border=\"1\" class=\"dataframe\">\n",
       "  <thead>\n",
       "    <tr style=\"text-align: right;\">\n",
       "      <th></th>\n",
       "      <th>ppt_id</th>\n",
       "      <th>Gender</th>\n",
       "      <th>Weight</th>\n",
       "      <th>Height</th>\n",
       "    </tr>\n",
       "  </thead>\n",
       "  <tbody>\n",
       "    <tr>\n",
       "      <th>0</th>\n",
       "      <td>1</td>\n",
       "      <td>Female</td>\n",
       "      <td>118.0</td>\n",
       "      <td>645.0</td>\n",
       "    </tr>\n",
       "    <tr>\n",
       "      <th>1</th>\n",
       "      <td>2</td>\n",
       "      <td>Male</td>\n",
       "      <td>NaN</td>\n",
       "      <td>725.0</td>\n",
       "    </tr>\n",
       "    <tr>\n",
       "      <th>2</th>\n",
       "      <td>3</td>\n",
       "      <td>Male</td>\n",
       "      <td>143.0</td>\n",
       "      <td>733.0</td>\n",
       "    </tr>\n",
       "    <tr>\n",
       "      <th>3</th>\n",
       "      <td>4</td>\n",
       "      <td>Male</td>\n",
       "      <td>172.0</td>\n",
       "      <td>688.0</td>\n",
       "    </tr>\n",
       "    <tr>\n",
       "      <th>4</th>\n",
       "      <td>5</td>\n",
       "      <td>Female</td>\n",
       "      <td>147.0</td>\n",
       "      <td>65.0</td>\n",
       "    </tr>\n",
       "  </tbody>\n",
       "</table>\n",
       "</div>"
      ],
      "text/plain": [
       "   ppt_id  Gender  Weight  Height\n",
       "0       1  Female   118.0   645.0\n",
       "1       2    Male     NaN   725.0\n",
       "2       3    Male   143.0   733.0\n",
       "3       4    Male   172.0   688.0\n",
       "4       5  Female   147.0    65.0"
      ]
     },
     "execution_count": 22,
     "metadata": {},
     "output_type": "execute_result"
    }
   ],
   "source": [
    "df2.head()"
   ]
  },
  {
   "cell_type": "code",
   "execution_count": null,
   "metadata": {},
   "outputs": [],
   "source": [
    "df.head()"
   ]
  },
  {
   "cell_type": "markdown",
   "metadata": {},
   "source": [
    "#### Merging Datasets\n",
    "\n",
    "Explain about merges here - have a look at the SQL images"
   ]
  },
  {
   "cell_type": "code",
   "execution_count": 9,
   "metadata": {},
   "outputs": [],
   "source": [
    "# create one merged DataFrame\n",
    "df_all = df.merge(df2, on = ['ppt_id', 'Unnamed: 0'], how = 'left')"
   ]
  },
  {
   "cell_type": "code",
   "execution_count": null,
   "metadata": {
    "collapsed": true
   },
   "outputs": [],
   "source": [
    "# Great, looks like it has worked (no errors!)\n",
    "# How cna we take a look? What do we need to type?"
   ]
  },
  {
   "cell_type": "code",
   "execution_count": 10,
   "metadata": {
    "scrolled": true
   },
   "outputs": [],
   "source": [
    "# Lets keep only the columns we need. You can 'filter out' columns by using the below syntax\n",
    "\n",
    "df_all = df_all[['ppt_id', 'FSIQ', 'VIQ', 'PIQ', 'MRI_Count', 'Gender', 'Weight', 'Height', 'Diagnosed' ]]"
   ]
  },
  {
   "cell_type": "code",
   "execution_count": 27,
   "metadata": {},
   "outputs": [
    {
     "data": {
      "text/html": [
       "<div>\n",
       "<style scoped>\n",
       "    .dataframe tbody tr th:only-of-type {\n",
       "        vertical-align: middle;\n",
       "    }\n",
       "\n",
       "    .dataframe tbody tr th {\n",
       "        vertical-align: top;\n",
       "    }\n",
       "\n",
       "    .dataframe thead th {\n",
       "        text-align: right;\n",
       "    }\n",
       "</style>\n",
       "<table border=\"1\" class=\"dataframe\">\n",
       "  <thead>\n",
       "    <tr style=\"text-align: right;\">\n",
       "      <th></th>\n",
       "      <th>ppt_id</th>\n",
       "      <th>FSIQ</th>\n",
       "      <th>VIQ</th>\n",
       "      <th>PIQ</th>\n",
       "      <th>MRI_Count</th>\n",
       "      <th>Gender</th>\n",
       "      <th>Weight</th>\n",
       "      <th>Height</th>\n",
       "      <th>Diagnosed</th>\n",
       "    </tr>\n",
       "  </thead>\n",
       "  <tbody>\n",
       "    <tr>\n",
       "      <th>0</th>\n",
       "      <td>1</td>\n",
       "      <td>133</td>\n",
       "      <td>132</td>\n",
       "      <td>124</td>\n",
       "      <td>816932</td>\n",
       "      <td>Female</td>\n",
       "      <td>118.0</td>\n",
       "      <td>645.0</td>\n",
       "      <td>Yes</td>\n",
       "    </tr>\n",
       "    <tr>\n",
       "      <th>1</th>\n",
       "      <td>2</td>\n",
       "      <td>140</td>\n",
       "      <td>150</td>\n",
       "      <td>124</td>\n",
       "      <td>1001121</td>\n",
       "      <td>Male</td>\n",
       "      <td>NaN</td>\n",
       "      <td>725.0</td>\n",
       "      <td>No</td>\n",
       "    </tr>\n",
       "    <tr>\n",
       "      <th>2</th>\n",
       "      <td>3</td>\n",
       "      <td>139</td>\n",
       "      <td>123</td>\n",
       "      <td>150</td>\n",
       "      <td>1038437</td>\n",
       "      <td>Male</td>\n",
       "      <td>143.0</td>\n",
       "      <td>733.0</td>\n",
       "      <td>Yes</td>\n",
       "    </tr>\n",
       "    <tr>\n",
       "      <th>3</th>\n",
       "      <td>4</td>\n",
       "      <td>133</td>\n",
       "      <td>129</td>\n",
       "      <td>128</td>\n",
       "      <td>965353</td>\n",
       "      <td>Male</td>\n",
       "      <td>172.0</td>\n",
       "      <td>688.0</td>\n",
       "      <td>No</td>\n",
       "    </tr>\n",
       "    <tr>\n",
       "      <th>4</th>\n",
       "      <td>5</td>\n",
       "      <td>137</td>\n",
       "      <td>132</td>\n",
       "      <td>134</td>\n",
       "      <td>951545</td>\n",
       "      <td>Female</td>\n",
       "      <td>147.0</td>\n",
       "      <td>65.0</td>\n",
       "      <td>Yes</td>\n",
       "    </tr>\n",
       "  </tbody>\n",
       "</table>\n",
       "</div>"
      ],
      "text/plain": [
       "   ppt_id  FSIQ  VIQ  PIQ  MRI_Count  Gender  Weight  Height Diagnosed\n",
       "0       1   133  132  124     816932  Female   118.0   645.0       Yes\n",
       "1       2   140  150  124    1001121    Male     NaN   725.0        No\n",
       "2       3   139  123  150    1038437    Male   143.0   733.0       Yes\n",
       "3       4   133  129  128     965353    Male   172.0   688.0        No\n",
       "4       5   137  132  134     951545  Female   147.0    65.0       Yes"
      ]
     },
     "execution_count": 27,
     "metadata": {},
     "output_type": "execute_result"
    }
   ],
   "source": [
    "df_all.head()"
   ]
  },
  {
   "cell_type": "code",
   "execution_count": null,
   "metadata": {
    "collapsed": true
   },
   "outputs": [],
   "source": [
    "# If you had column names that were different, you could rename them:\n",
    "\n",
    "# df.rename(columns={'pptId': 'ppt_id'}, inplace=True)\n",
    "\n",
    "# Note the use of a dictionary there."
   ]
  },
  {
   "cell_type": "markdown",
   "metadata": {},
   "source": [
    "#### Working with missing data "
   ]
  },
  {
   "cell_type": "markdown",
   "metadata": {},
   "source": [
    "Explain the fillna method and various ways to fillna...\n",
    "\n",
    "You could also just df_all.drop, but this would remove important data. \n",
    "\n",
    "How else could you impute missing cell values?\n"
   ]
  },
  {
   "cell_type": "code",
   "execution_count": null,
   "metadata": {
    "collapsed": true
   },
   "outputs": [],
   "source": [
    "# Consider\n",
    "\n",
    "# fillna(0) fillna(\"MissingValue\") fillna(-99) etc"
   ]
  },
  {
   "cell_type": "code",
   "execution_count": 28,
   "metadata": {},
   "outputs": [
    {
     "data": {
      "text/html": [
       "<div>\n",
       "<style scoped>\n",
       "    .dataframe tbody tr th:only-of-type {\n",
       "        vertical-align: middle;\n",
       "    }\n",
       "\n",
       "    .dataframe tbody tr th {\n",
       "        vertical-align: top;\n",
       "    }\n",
       "\n",
       "    .dataframe thead th {\n",
       "        text-align: right;\n",
       "    }\n",
       "</style>\n",
       "<table border=\"1\" class=\"dataframe\">\n",
       "  <thead>\n",
       "    <tr style=\"text-align: right;\">\n",
       "      <th></th>\n",
       "      <th>ppt_id</th>\n",
       "      <th>FSIQ</th>\n",
       "      <th>VIQ</th>\n",
       "      <th>PIQ</th>\n",
       "      <th>MRI_Count</th>\n",
       "      <th>Weight</th>\n",
       "      <th>Height</th>\n",
       "    </tr>\n",
       "  </thead>\n",
       "  <tbody>\n",
       "    <tr>\n",
       "      <th>count</th>\n",
       "      <td>40.000000</td>\n",
       "      <td>40.000000</td>\n",
       "      <td>40.000000</td>\n",
       "      <td>40.00000</td>\n",
       "      <td>4.000000e+01</td>\n",
       "      <td>38.000000</td>\n",
       "      <td>39.000000</td>\n",
       "    </tr>\n",
       "    <tr>\n",
       "      <th>mean</th>\n",
       "      <td>20.500000</td>\n",
       "      <td>113.450000</td>\n",
       "      <td>112.350000</td>\n",
       "      <td>111.02500</td>\n",
       "      <td>9.087550e+05</td>\n",
       "      <td>151.052632</td>\n",
       "      <td>402.333333</td>\n",
       "    </tr>\n",
       "    <tr>\n",
       "      <th>std</th>\n",
       "      <td>11.690452</td>\n",
       "      <td>24.082071</td>\n",
       "      <td>23.616107</td>\n",
       "      <td>22.47105</td>\n",
       "      <td>7.228205e+04</td>\n",
       "      <td>23.478509</td>\n",
       "      <td>314.962599</td>\n",
       "    </tr>\n",
       "    <tr>\n",
       "      <th>min</th>\n",
       "      <td>1.000000</td>\n",
       "      <td>77.000000</td>\n",
       "      <td>71.000000</td>\n",
       "      <td>72.00000</td>\n",
       "      <td>7.906190e+05</td>\n",
       "      <td>106.000000</td>\n",
       "      <td>62.000000</td>\n",
       "    </tr>\n",
       "    <tr>\n",
       "      <th>25%</th>\n",
       "      <td>10.750000</td>\n",
       "      <td>89.750000</td>\n",
       "      <td>90.000000</td>\n",
       "      <td>88.25000</td>\n",
       "      <td>8.559185e+05</td>\n",
       "      <td>135.250000</td>\n",
       "      <td>68.500000</td>\n",
       "    </tr>\n",
       "    <tr>\n",
       "      <th>50%</th>\n",
       "      <td>20.500000</td>\n",
       "      <td>116.500000</td>\n",
       "      <td>113.000000</td>\n",
       "      <td>115.00000</td>\n",
       "      <td>9.053990e+05</td>\n",
       "      <td>146.500000</td>\n",
       "      <td>645.000000</td>\n",
       "    </tr>\n",
       "    <tr>\n",
       "      <th>75%</th>\n",
       "      <td>30.250000</td>\n",
       "      <td>135.500000</td>\n",
       "      <td>129.750000</td>\n",
       "      <td>128.00000</td>\n",
       "      <td>9.500780e+05</td>\n",
       "      <td>172.000000</td>\n",
       "      <td>686.500000</td>\n",
       "    </tr>\n",
       "    <tr>\n",
       "      <th>max</th>\n",
       "      <td>40.000000</td>\n",
       "      <td>144.000000</td>\n",
       "      <td>150.000000</td>\n",
       "      <td>150.00000</td>\n",
       "      <td>1.079549e+06</td>\n",
       "      <td>192.000000</td>\n",
       "      <td>765.000000</td>\n",
       "    </tr>\n",
       "  </tbody>\n",
       "</table>\n",
       "</div>"
      ],
      "text/plain": [
       "          ppt_id        FSIQ         VIQ        PIQ     MRI_Count      Weight  \\\n",
       "count  40.000000   40.000000   40.000000   40.00000  4.000000e+01   38.000000   \n",
       "mean   20.500000  113.450000  112.350000  111.02500  9.087550e+05  151.052632   \n",
       "std    11.690452   24.082071   23.616107   22.47105  7.228205e+04   23.478509   \n",
       "min     1.000000   77.000000   71.000000   72.00000  7.906190e+05  106.000000   \n",
       "25%    10.750000   89.750000   90.000000   88.25000  8.559185e+05  135.250000   \n",
       "50%    20.500000  116.500000  113.000000  115.00000  9.053990e+05  146.500000   \n",
       "75%    30.250000  135.500000  129.750000  128.00000  9.500780e+05  172.000000   \n",
       "max    40.000000  144.000000  150.000000  150.00000  1.079549e+06  192.000000   \n",
       "\n",
       "           Height  \n",
       "count   39.000000  \n",
       "mean   402.333333  \n",
       "std    314.962599  \n",
       "min     62.000000  \n",
       "25%     68.500000  \n",
       "50%    645.000000  \n",
       "75%    686.500000  \n",
       "max    765.000000  "
      ]
     },
     "execution_count": 28,
     "metadata": {},
     "output_type": "execute_result"
    }
   ],
   "source": [
    "df_all.describe()"
   ]
  },
  {
   "cell_type": "code",
   "execution_count": 29,
   "metadata": {
    "scrolled": true
   },
   "outputs": [
    {
     "data": {
      "text/html": [
       "<div>\n",
       "<style scoped>\n",
       "    .dataframe tbody tr th:only-of-type {\n",
       "        vertical-align: middle;\n",
       "    }\n",
       "\n",
       "    .dataframe tbody tr th {\n",
       "        vertical-align: top;\n",
       "    }\n",
       "\n",
       "    .dataframe thead th {\n",
       "        text-align: right;\n",
       "    }\n",
       "</style>\n",
       "<table border=\"1\" class=\"dataframe\">\n",
       "  <thead>\n",
       "    <tr style=\"text-align: right;\">\n",
       "      <th></th>\n",
       "      <th>ppt_id</th>\n",
       "      <th>FSIQ</th>\n",
       "      <th>VIQ</th>\n",
       "      <th>PIQ</th>\n",
       "      <th>MRI_Count</th>\n",
       "      <th>Gender</th>\n",
       "      <th>Weight</th>\n",
       "      <th>Height</th>\n",
       "      <th>Diagnosed</th>\n",
       "    </tr>\n",
       "  </thead>\n",
       "  <tbody>\n",
       "    <tr>\n",
       "      <th>0</th>\n",
       "      <td>False</td>\n",
       "      <td>False</td>\n",
       "      <td>False</td>\n",
       "      <td>False</td>\n",
       "      <td>False</td>\n",
       "      <td>False</td>\n",
       "      <td>False</td>\n",
       "      <td>False</td>\n",
       "      <td>False</td>\n",
       "    </tr>\n",
       "    <tr>\n",
       "      <th>1</th>\n",
       "      <td>False</td>\n",
       "      <td>False</td>\n",
       "      <td>False</td>\n",
       "      <td>False</td>\n",
       "      <td>False</td>\n",
       "      <td>False</td>\n",
       "      <td>True</td>\n",
       "      <td>False</td>\n",
       "      <td>False</td>\n",
       "    </tr>\n",
       "    <tr>\n",
       "      <th>2</th>\n",
       "      <td>False</td>\n",
       "      <td>False</td>\n",
       "      <td>False</td>\n",
       "      <td>False</td>\n",
       "      <td>False</td>\n",
       "      <td>False</td>\n",
       "      <td>False</td>\n",
       "      <td>False</td>\n",
       "      <td>False</td>\n",
       "    </tr>\n",
       "    <tr>\n",
       "      <th>3</th>\n",
       "      <td>False</td>\n",
       "      <td>False</td>\n",
       "      <td>False</td>\n",
       "      <td>False</td>\n",
       "      <td>False</td>\n",
       "      <td>False</td>\n",
       "      <td>False</td>\n",
       "      <td>False</td>\n",
       "      <td>False</td>\n",
       "    </tr>\n",
       "    <tr>\n",
       "      <th>4</th>\n",
       "      <td>False</td>\n",
       "      <td>False</td>\n",
       "      <td>False</td>\n",
       "      <td>False</td>\n",
       "      <td>False</td>\n",
       "      <td>False</td>\n",
       "      <td>False</td>\n",
       "      <td>False</td>\n",
       "      <td>False</td>\n",
       "    </tr>\n",
       "    <tr>\n",
       "      <th>5</th>\n",
       "      <td>False</td>\n",
       "      <td>False</td>\n",
       "      <td>False</td>\n",
       "      <td>False</td>\n",
       "      <td>False</td>\n",
       "      <td>False</td>\n",
       "      <td>False</td>\n",
       "      <td>False</td>\n",
       "      <td>False</td>\n",
       "    </tr>\n",
       "    <tr>\n",
       "      <th>6</th>\n",
       "      <td>False</td>\n",
       "      <td>False</td>\n",
       "      <td>False</td>\n",
       "      <td>False</td>\n",
       "      <td>False</td>\n",
       "      <td>False</td>\n",
       "      <td>False</td>\n",
       "      <td>False</td>\n",
       "      <td>False</td>\n",
       "    </tr>\n",
       "    <tr>\n",
       "      <th>7</th>\n",
       "      <td>False</td>\n",
       "      <td>False</td>\n",
       "      <td>False</td>\n",
       "      <td>False</td>\n",
       "      <td>False</td>\n",
       "      <td>False</td>\n",
       "      <td>False</td>\n",
       "      <td>False</td>\n",
       "      <td>False</td>\n",
       "    </tr>\n",
       "    <tr>\n",
       "      <th>8</th>\n",
       "      <td>False</td>\n",
       "      <td>False</td>\n",
       "      <td>False</td>\n",
       "      <td>False</td>\n",
       "      <td>False</td>\n",
       "      <td>False</td>\n",
       "      <td>False</td>\n",
       "      <td>False</td>\n",
       "      <td>False</td>\n",
       "    </tr>\n",
       "    <tr>\n",
       "      <th>9</th>\n",
       "      <td>False</td>\n",
       "      <td>False</td>\n",
       "      <td>False</td>\n",
       "      <td>False</td>\n",
       "      <td>False</td>\n",
       "      <td>False</td>\n",
       "      <td>False</td>\n",
       "      <td>False</td>\n",
       "      <td>False</td>\n",
       "    </tr>\n",
       "    <tr>\n",
       "      <th>10</th>\n",
       "      <td>False</td>\n",
       "      <td>False</td>\n",
       "      <td>False</td>\n",
       "      <td>False</td>\n",
       "      <td>False</td>\n",
       "      <td>False</td>\n",
       "      <td>False</td>\n",
       "      <td>False</td>\n",
       "      <td>False</td>\n",
       "    </tr>\n",
       "    <tr>\n",
       "      <th>11</th>\n",
       "      <td>False</td>\n",
       "      <td>False</td>\n",
       "      <td>False</td>\n",
       "      <td>False</td>\n",
       "      <td>False</td>\n",
       "      <td>False</td>\n",
       "      <td>False</td>\n",
       "      <td>False</td>\n",
       "      <td>False</td>\n",
       "    </tr>\n",
       "    <tr>\n",
       "      <th>12</th>\n",
       "      <td>False</td>\n",
       "      <td>False</td>\n",
       "      <td>False</td>\n",
       "      <td>False</td>\n",
       "      <td>False</td>\n",
       "      <td>False</td>\n",
       "      <td>False</td>\n",
       "      <td>False</td>\n",
       "      <td>False</td>\n",
       "    </tr>\n",
       "    <tr>\n",
       "      <th>13</th>\n",
       "      <td>False</td>\n",
       "      <td>False</td>\n",
       "      <td>False</td>\n",
       "      <td>False</td>\n",
       "      <td>False</td>\n",
       "      <td>False</td>\n",
       "      <td>False</td>\n",
       "      <td>False</td>\n",
       "      <td>False</td>\n",
       "    </tr>\n",
       "    <tr>\n",
       "      <th>14</th>\n",
       "      <td>False</td>\n",
       "      <td>False</td>\n",
       "      <td>False</td>\n",
       "      <td>False</td>\n",
       "      <td>False</td>\n",
       "      <td>False</td>\n",
       "      <td>False</td>\n",
       "      <td>False</td>\n",
       "      <td>False</td>\n",
       "    </tr>\n",
       "    <tr>\n",
       "      <th>15</th>\n",
       "      <td>False</td>\n",
       "      <td>False</td>\n",
       "      <td>False</td>\n",
       "      <td>False</td>\n",
       "      <td>False</td>\n",
       "      <td>False</td>\n",
       "      <td>False</td>\n",
       "      <td>False</td>\n",
       "      <td>False</td>\n",
       "    </tr>\n",
       "    <tr>\n",
       "      <th>16</th>\n",
       "      <td>False</td>\n",
       "      <td>False</td>\n",
       "      <td>False</td>\n",
       "      <td>False</td>\n",
       "      <td>False</td>\n",
       "      <td>False</td>\n",
       "      <td>False</td>\n",
       "      <td>False</td>\n",
       "      <td>False</td>\n",
       "    </tr>\n",
       "    <tr>\n",
       "      <th>17</th>\n",
       "      <td>False</td>\n",
       "      <td>False</td>\n",
       "      <td>False</td>\n",
       "      <td>False</td>\n",
       "      <td>False</td>\n",
       "      <td>False</td>\n",
       "      <td>False</td>\n",
       "      <td>False</td>\n",
       "      <td>False</td>\n",
       "    </tr>\n",
       "    <tr>\n",
       "      <th>18</th>\n",
       "      <td>False</td>\n",
       "      <td>False</td>\n",
       "      <td>False</td>\n",
       "      <td>False</td>\n",
       "      <td>False</td>\n",
       "      <td>False</td>\n",
       "      <td>False</td>\n",
       "      <td>False</td>\n",
       "      <td>False</td>\n",
       "    </tr>\n",
       "    <tr>\n",
       "      <th>19</th>\n",
       "      <td>False</td>\n",
       "      <td>False</td>\n",
       "      <td>False</td>\n",
       "      <td>False</td>\n",
       "      <td>False</td>\n",
       "      <td>False</td>\n",
       "      <td>False</td>\n",
       "      <td>False</td>\n",
       "      <td>False</td>\n",
       "    </tr>\n",
       "    <tr>\n",
       "      <th>20</th>\n",
       "      <td>False</td>\n",
       "      <td>False</td>\n",
       "      <td>False</td>\n",
       "      <td>False</td>\n",
       "      <td>False</td>\n",
       "      <td>False</td>\n",
       "      <td>True</td>\n",
       "      <td>True</td>\n",
       "      <td>False</td>\n",
       "    </tr>\n",
       "    <tr>\n",
       "      <th>21</th>\n",
       "      <td>False</td>\n",
       "      <td>False</td>\n",
       "      <td>False</td>\n",
       "      <td>False</td>\n",
       "      <td>False</td>\n",
       "      <td>False</td>\n",
       "      <td>False</td>\n",
       "      <td>False</td>\n",
       "      <td>False</td>\n",
       "    </tr>\n",
       "    <tr>\n",
       "      <th>22</th>\n",
       "      <td>False</td>\n",
       "      <td>False</td>\n",
       "      <td>False</td>\n",
       "      <td>False</td>\n",
       "      <td>False</td>\n",
       "      <td>False</td>\n",
       "      <td>False</td>\n",
       "      <td>False</td>\n",
       "      <td>False</td>\n",
       "    </tr>\n",
       "    <tr>\n",
       "      <th>23</th>\n",
       "      <td>False</td>\n",
       "      <td>False</td>\n",
       "      <td>False</td>\n",
       "      <td>False</td>\n",
       "      <td>False</td>\n",
       "      <td>False</td>\n",
       "      <td>False</td>\n",
       "      <td>False</td>\n",
       "      <td>False</td>\n",
       "    </tr>\n",
       "    <tr>\n",
       "      <th>24</th>\n",
       "      <td>False</td>\n",
       "      <td>False</td>\n",
       "      <td>False</td>\n",
       "      <td>False</td>\n",
       "      <td>False</td>\n",
       "      <td>False</td>\n",
       "      <td>False</td>\n",
       "      <td>False</td>\n",
       "      <td>False</td>\n",
       "    </tr>\n",
       "    <tr>\n",
       "      <th>25</th>\n",
       "      <td>False</td>\n",
       "      <td>False</td>\n",
       "      <td>False</td>\n",
       "      <td>False</td>\n",
       "      <td>False</td>\n",
       "      <td>False</td>\n",
       "      <td>False</td>\n",
       "      <td>False</td>\n",
       "      <td>False</td>\n",
       "    </tr>\n",
       "    <tr>\n",
       "      <th>26</th>\n",
       "      <td>False</td>\n",
       "      <td>False</td>\n",
       "      <td>False</td>\n",
       "      <td>False</td>\n",
       "      <td>False</td>\n",
       "      <td>False</td>\n",
       "      <td>False</td>\n",
       "      <td>False</td>\n",
       "      <td>False</td>\n",
       "    </tr>\n",
       "    <tr>\n",
       "      <th>27</th>\n",
       "      <td>False</td>\n",
       "      <td>False</td>\n",
       "      <td>False</td>\n",
       "      <td>False</td>\n",
       "      <td>False</td>\n",
       "      <td>False</td>\n",
       "      <td>False</td>\n",
       "      <td>False</td>\n",
       "      <td>False</td>\n",
       "    </tr>\n",
       "    <tr>\n",
       "      <th>28</th>\n",
       "      <td>False</td>\n",
       "      <td>False</td>\n",
       "      <td>False</td>\n",
       "      <td>False</td>\n",
       "      <td>False</td>\n",
       "      <td>False</td>\n",
       "      <td>False</td>\n",
       "      <td>False</td>\n",
       "      <td>False</td>\n",
       "    </tr>\n",
       "    <tr>\n",
       "      <th>29</th>\n",
       "      <td>False</td>\n",
       "      <td>False</td>\n",
       "      <td>False</td>\n",
       "      <td>False</td>\n",
       "      <td>False</td>\n",
       "      <td>False</td>\n",
       "      <td>False</td>\n",
       "      <td>False</td>\n",
       "      <td>False</td>\n",
       "    </tr>\n",
       "    <tr>\n",
       "      <th>30</th>\n",
       "      <td>False</td>\n",
       "      <td>False</td>\n",
       "      <td>False</td>\n",
       "      <td>False</td>\n",
       "      <td>False</td>\n",
       "      <td>False</td>\n",
       "      <td>False</td>\n",
       "      <td>False</td>\n",
       "      <td>False</td>\n",
       "    </tr>\n",
       "    <tr>\n",
       "      <th>31</th>\n",
       "      <td>False</td>\n",
       "      <td>False</td>\n",
       "      <td>False</td>\n",
       "      <td>False</td>\n",
       "      <td>False</td>\n",
       "      <td>False</td>\n",
       "      <td>False</td>\n",
       "      <td>False</td>\n",
       "      <td>False</td>\n",
       "    </tr>\n",
       "    <tr>\n",
       "      <th>32</th>\n",
       "      <td>False</td>\n",
       "      <td>False</td>\n",
       "      <td>False</td>\n",
       "      <td>False</td>\n",
       "      <td>False</td>\n",
       "      <td>False</td>\n",
       "      <td>False</td>\n",
       "      <td>False</td>\n",
       "      <td>False</td>\n",
       "    </tr>\n",
       "    <tr>\n",
       "      <th>33</th>\n",
       "      <td>False</td>\n",
       "      <td>False</td>\n",
       "      <td>False</td>\n",
       "      <td>False</td>\n",
       "      <td>False</td>\n",
       "      <td>False</td>\n",
       "      <td>False</td>\n",
       "      <td>False</td>\n",
       "      <td>False</td>\n",
       "    </tr>\n",
       "    <tr>\n",
       "      <th>34</th>\n",
       "      <td>False</td>\n",
       "      <td>False</td>\n",
       "      <td>False</td>\n",
       "      <td>False</td>\n",
       "      <td>False</td>\n",
       "      <td>False</td>\n",
       "      <td>False</td>\n",
       "      <td>False</td>\n",
       "      <td>False</td>\n",
       "    </tr>\n",
       "    <tr>\n",
       "      <th>35</th>\n",
       "      <td>False</td>\n",
       "      <td>False</td>\n",
       "      <td>False</td>\n",
       "      <td>False</td>\n",
       "      <td>False</td>\n",
       "      <td>False</td>\n",
       "      <td>False</td>\n",
       "      <td>False</td>\n",
       "      <td>False</td>\n",
       "    </tr>\n",
       "    <tr>\n",
       "      <th>36</th>\n",
       "      <td>False</td>\n",
       "      <td>False</td>\n",
       "      <td>False</td>\n",
       "      <td>False</td>\n",
       "      <td>False</td>\n",
       "      <td>False</td>\n",
       "      <td>False</td>\n",
       "      <td>False</td>\n",
       "      <td>False</td>\n",
       "    </tr>\n",
       "    <tr>\n",
       "      <th>37</th>\n",
       "      <td>False</td>\n",
       "      <td>False</td>\n",
       "      <td>False</td>\n",
       "      <td>False</td>\n",
       "      <td>False</td>\n",
       "      <td>False</td>\n",
       "      <td>False</td>\n",
       "      <td>False</td>\n",
       "      <td>False</td>\n",
       "    </tr>\n",
       "    <tr>\n",
       "      <th>38</th>\n",
       "      <td>False</td>\n",
       "      <td>False</td>\n",
       "      <td>False</td>\n",
       "      <td>False</td>\n",
       "      <td>False</td>\n",
       "      <td>False</td>\n",
       "      <td>False</td>\n",
       "      <td>False</td>\n",
       "      <td>False</td>\n",
       "    </tr>\n",
       "    <tr>\n",
       "      <th>39</th>\n",
       "      <td>False</td>\n",
       "      <td>False</td>\n",
       "      <td>False</td>\n",
       "      <td>False</td>\n",
       "      <td>False</td>\n",
       "      <td>False</td>\n",
       "      <td>False</td>\n",
       "      <td>False</td>\n",
       "      <td>False</td>\n",
       "    </tr>\n",
       "  </tbody>\n",
       "</table>\n",
       "</div>"
      ],
      "text/plain": [
       "    ppt_id   FSIQ    VIQ    PIQ  MRI_Count  Gender  Weight  Height  Diagnosed\n",
       "0    False  False  False  False      False   False   False   False      False\n",
       "1    False  False  False  False      False   False    True   False      False\n",
       "2    False  False  False  False      False   False   False   False      False\n",
       "3    False  False  False  False      False   False   False   False      False\n",
       "4    False  False  False  False      False   False   False   False      False\n",
       "5    False  False  False  False      False   False   False   False      False\n",
       "6    False  False  False  False      False   False   False   False      False\n",
       "7    False  False  False  False      False   False   False   False      False\n",
       "8    False  False  False  False      False   False   False   False      False\n",
       "9    False  False  False  False      False   False   False   False      False\n",
       "10   False  False  False  False      False   False   False   False      False\n",
       "11   False  False  False  False      False   False   False   False      False\n",
       "12   False  False  False  False      False   False   False   False      False\n",
       "13   False  False  False  False      False   False   False   False      False\n",
       "14   False  False  False  False      False   False   False   False      False\n",
       "15   False  False  False  False      False   False   False   False      False\n",
       "16   False  False  False  False      False   False   False   False      False\n",
       "17   False  False  False  False      False   False   False   False      False\n",
       "18   False  False  False  False      False   False   False   False      False\n",
       "19   False  False  False  False      False   False   False   False      False\n",
       "20   False  False  False  False      False   False    True    True      False\n",
       "21   False  False  False  False      False   False   False   False      False\n",
       "22   False  False  False  False      False   False   False   False      False\n",
       "23   False  False  False  False      False   False   False   False      False\n",
       "24   False  False  False  False      False   False   False   False      False\n",
       "25   False  False  False  False      False   False   False   False      False\n",
       "26   False  False  False  False      False   False   False   False      False\n",
       "27   False  False  False  False      False   False   False   False      False\n",
       "28   False  False  False  False      False   False   False   False      False\n",
       "29   False  False  False  False      False   False   False   False      False\n",
       "30   False  False  False  False      False   False   False   False      False\n",
       "31   False  False  False  False      False   False   False   False      False\n",
       "32   False  False  False  False      False   False   False   False      False\n",
       "33   False  False  False  False      False   False   False   False      False\n",
       "34   False  False  False  False      False   False   False   False      False\n",
       "35   False  False  False  False      False   False   False   False      False\n",
       "36   False  False  False  False      False   False   False   False      False\n",
       "37   False  False  False  False      False   False   False   False      False\n",
       "38   False  False  False  False      False   False   False   False      False\n",
       "39   False  False  False  False      False   False   False   False      False"
      ]
     },
     "execution_count": 29,
     "metadata": {},
     "output_type": "execute_result"
    }
   ],
   "source": [
    "df_all.isnull()"
   ]
  },
  {
   "cell_type": "code",
   "execution_count": null,
   "metadata": {},
   "outputs": [],
   "source": [
    "# Sum up the output above to show the total number of missing values per column\n",
    "\n",
    "df_all.isnull().sum()"
   ]
  },
  {
   "cell_type": "code",
   "execution_count": 30,
   "metadata": {},
   "outputs": [
    {
     "data": {
      "text/html": [
       "<div>\n",
       "<style scoped>\n",
       "    .dataframe tbody tr th:only-of-type {\n",
       "        vertical-align: middle;\n",
       "    }\n",
       "\n",
       "    .dataframe tbody tr th {\n",
       "        vertical-align: top;\n",
       "    }\n",
       "\n",
       "    .dataframe thead th {\n",
       "        text-align: right;\n",
       "    }\n",
       "</style>\n",
       "<table border=\"1\" class=\"dataframe\">\n",
       "  <thead>\n",
       "    <tr style=\"text-align: right;\">\n",
       "      <th></th>\n",
       "      <th>ppt_id</th>\n",
       "      <th>FSIQ</th>\n",
       "      <th>VIQ</th>\n",
       "      <th>PIQ</th>\n",
       "      <th>MRI_Count</th>\n",
       "      <th>Gender</th>\n",
       "      <th>Weight</th>\n",
       "      <th>Height</th>\n",
       "      <th>Diagnosed</th>\n",
       "    </tr>\n",
       "  </thead>\n",
       "  <tbody>\n",
       "    <tr>\n",
       "      <th>1</th>\n",
       "      <td>2</td>\n",
       "      <td>140</td>\n",
       "      <td>150</td>\n",
       "      <td>124</td>\n",
       "      <td>1001121</td>\n",
       "      <td>Male</td>\n",
       "      <td>NaN</td>\n",
       "      <td>725.0</td>\n",
       "      <td>No</td>\n",
       "    </tr>\n",
       "    <tr>\n",
       "      <th>20</th>\n",
       "      <td>21</td>\n",
       "      <td>83</td>\n",
       "      <td>83</td>\n",
       "      <td>86</td>\n",
       "      <td>892420</td>\n",
       "      <td>Male</td>\n",
       "      <td>NaN</td>\n",
       "      <td>NaN</td>\n",
       "      <td>No</td>\n",
       "    </tr>\n",
       "  </tbody>\n",
       "</table>\n",
       "</div>"
      ],
      "text/plain": [
       "    ppt_id  FSIQ  VIQ  PIQ  MRI_Count Gender  Weight  Height Diagnosed\n",
       "1        2   140  150  124    1001121   Male     NaN   725.0        No\n",
       "20      21    83   83   86     892420   Male     NaN     NaN        No"
      ]
     },
     "execution_count": 30,
     "metadata": {},
     "output_type": "execute_result"
    }
   ],
   "source": [
    "# Shows the rows where there are missing values\n",
    "\n",
    "df_all[df_all.isnull().any(axis=1)]"
   ]
  },
  {
   "cell_type": "code",
   "execution_count": null,
   "metadata": {},
   "outputs": [],
   "source": [
    "df_all.mean()"
   ]
  },
  {
   "cell_type": "code",
   "execution_count": null,
   "metadata": {
    "collapsed": true
   },
   "outputs": [],
   "source": [
    "# You could run this code below, which would fill the missing Weight values with the whole\n",
    "# column means. Is this a good idea? Why, why not?\n",
    "\n",
    "#df_all[\"Weight\"].fillna(df_all[\"Weight\"].mean())"
   ]
  },
  {
   "cell_type": "code",
   "execution_count": null,
   "metadata": {},
   "outputs": [],
   "source": [
    "df_all.groupby(\"Gender\").mean()"
   ]
  },
  {
   "cell_type": "code",
   "execution_count": 7,
   "metadata": {
    "scrolled": true
   },
   "outputs": [],
   "source": [
    "df_all.Weight.fillna(166.444444, inplace=True)"
   ]
  },
  {
   "cell_type": "code",
   "execution_count": 8,
   "metadata": {},
   "outputs": [],
   "source": [
    "df_all.Height.fillna(413.052632, inplace=True)"
   ]
  },
  {
   "cell_type": "code",
   "execution_count": null,
   "metadata": {},
   "outputs": [],
   "source": [
    "df_all.head()"
   ]
  },
  {
   "cell_type": "code",
   "execution_count": null,
   "metadata": {},
   "outputs": [],
   "source": [
    "# Now that we have filled the missing values, you will see that there are no rows with\n",
    "# missing values\n",
    "\n",
    "df_all[df_all.isnull().any(axis=1)]\n",
    "\n",
    "# Can anyone guess what the axis argument is doing?"
   ]
  },
  {
   "cell_type": "code",
   "execution_count": 11,
   "metadata": {},
   "outputs": [],
   "source": [
    "# Now consider if you had a HUGE dataset with multiple columns and multiple groups (i.e\n",
    "# more than just male and female). It would take time to fillna\n",
    "\n",
    "df_all[\"Weight\"].fillna(df_all.groupby(\"Gender\")[\"Weight\"].transform(\"mean\"), inplace=True)"
   ]
  },
  {
   "cell_type": "code",
   "execution_count": null,
   "metadata": {},
   "outputs": [],
   "source": [
    "df_all[df_all.isnull().any(axis=1)]"
   ]
  },
  {
   "cell_type": "code",
   "execution_count": 12,
   "metadata": {},
   "outputs": [],
   "source": [
    "# And now lets fill missing Height values\n",
    "\n",
    "df_all[\"Height\"].fillna(df_all.groupby(\"Gender\")[\"Height\"].transform(\"mean\"), inplace=True)"
   ]
  },
  {
   "cell_type": "code",
   "execution_count": 33,
   "metadata": {},
   "outputs": [
    {
     "data": {
      "text/html": [
       "<div>\n",
       "<style scoped>\n",
       "    .dataframe tbody tr th:only-of-type {\n",
       "        vertical-align: middle;\n",
       "    }\n",
       "\n",
       "    .dataframe tbody tr th {\n",
       "        vertical-align: top;\n",
       "    }\n",
       "\n",
       "    .dataframe thead th {\n",
       "        text-align: right;\n",
       "    }\n",
       "</style>\n",
       "<table border=\"1\" class=\"dataframe\">\n",
       "  <thead>\n",
       "    <tr style=\"text-align: right;\">\n",
       "      <th></th>\n",
       "      <th>ppt_id</th>\n",
       "      <th>FSIQ</th>\n",
       "      <th>VIQ</th>\n",
       "      <th>PIQ</th>\n",
       "      <th>MRI_Count</th>\n",
       "      <th>Gender</th>\n",
       "      <th>Weight</th>\n",
       "      <th>Height</th>\n",
       "      <th>Diagnosed</th>\n",
       "    </tr>\n",
       "  </thead>\n",
       "  <tbody>\n",
       "  </tbody>\n",
       "</table>\n",
       "</div>"
      ],
      "text/plain": [
       "Empty DataFrame\n",
       "Columns: [ppt_id, FSIQ, VIQ, PIQ, MRI_Count, Gender, Weight, Height, Diagnosed]\n",
       "Index: []"
      ]
     },
     "execution_count": 33,
     "metadata": {},
     "output_type": "execute_result"
    }
   ],
   "source": [
    "# And voila... no more missing values!\n",
    "\n",
    "df_all[df_all.isnull().any(axis=1)]"
   ]
  },
  {
   "cell_type": "markdown",
   "metadata": {},
   "source": [
    "#### Aggregating data \n",
    "\n",
    "One of my favourite pandas functions is the groupby() function."
   ]
  },
  {
   "cell_type": "code",
   "execution_count": null,
   "metadata": {},
   "outputs": [],
   "source": [
    "# Experiment with .median, .describe, consider adding other categorical variables in the\n",
    "# groupby and then aggregating. \n",
    "\n",
    "# Introduce the .to_clipboard() function, and the transpose function, which are useful \n",
    "# when writing a paper.\n",
    "\n",
    "\n",
    "df_all.groupby(\"Gender\").mean()#.T"
   ]
  },
  {
   "cell_type": "code",
   "execution_count": null,
   "metadata": {},
   "outputs": [],
   "source": [
    "# What if you want to investigate two categorical variables?\n",
    "\n",
    "cols_to_grpby = ['Gender', 'Diagnosed']\n",
    "\n",
    "df_all.groupby(cols_to_grpby).mean()"
   ]
  },
  {
   "cell_type": "code",
   "execution_count": null,
   "metadata": {},
   "outputs": [],
   "source": [
    "df_all.groupby(cols_to_grpby).median()"
   ]
  },
  {
   "cell_type": "code",
   "execution_count": null,
   "metadata": {
    "scrolled": true
   },
   "outputs": [],
   "source": [
    "df_all.groupby(cols_to_grpby).describe().T"
   ]
  },
  {
   "cell_type": "code",
   "execution_count": null,
   "metadata": {
    "collapsed": true
   },
   "outputs": [],
   "source": [
    "# Prepare your tables for publication? \n",
    "# I copy to clipboard and then format in Excel..\n",
    "\n",
    "df_all.groupby(cols_to_grpby).describe().T.to_clipboard()"
   ]
  },
  {
   "cell_type": "markdown",
   "metadata": {},
   "source": [
    "## Data Visualisation"
   ]
  },
  {
   "cell_type": "markdown",
   "metadata": {},
   "source": [
    "Start with basic bar/line plots, learning seaborn methods, and then something interactive"
   ]
  },
  {
   "cell_type": "code",
   "execution_count": 34,
   "metadata": {},
   "outputs": [],
   "source": [
    "#we need to import more libraries, notably matplotlib and seaborn\n",
    "\n",
    "import matplotlib.pyplot as plt\n",
    "from IPython.display import display\n",
    "import seaborn as sns\n",
    "\n",
    "#note the magic function below. This is important because it will allow the plots you\n",
    "#create to appear here in the notebook.\n",
    "%matplotlib inline\n"
   ]
  },
  {
   "cell_type": "code",
   "execution_count": 36,
   "metadata": {},
   "outputs": [
    {
     "data": {
      "image/png": "[encoded data removed]",
      "text/plain": [
       "<Figure size 432x288 with 1 Axes>"
      ]
     },
     "metadata": {
      "needs_background": "light"
     },
     "output_type": "display_data"
    }
   ],
   "source": [
    "xx = df_all[\"FSIQ\"] # you can replace FSIQ with any other column.. try it\n",
    "plt.hist(xx, bins = 10);"
   ]
  },
  {
   "cell_type": "markdown",
   "metadata": {},
   "source": [
    "Now lets consider the seaborn library, which we will use as seaborn is generally easier, and make the images much better!"
   ]
  },
  {
   "cell_type": "code",
   "execution_count": null,
   "metadata": {},
   "outputs": [],
   "source": [
    "sns.distplot(df_all['Weight'], kde=False, rug=True, bins = 10)"
   ]
  },
  {
   "cell_type": "markdown",
   "metadata": {},
   "source": [
    "We want to investigate:\n",
    "\n",
    "\n",
    "(1) Differences in IQ/brain size between men and women?\n",
    "\n",
    "(2) Any correlations?"
   ]
  },
  {
   "cell_type": "markdown",
   "metadata": {},
   "source": [
    "** Now is a good time to explore the seaborn library. \n",
    "I will show you how to use the examples and apply them to your work **"
   ]
  },
  {
   "cell_type": "code",
   "execution_count": 37,
   "metadata": {},
   "outputs": [
    {
     "data": {
      "image/png": "[encoded data removed]",
      "text/plain": [
       "<Figure size 360x360 with 1 Axes>"
      ]
     },
     "metadata": {
      "needs_background": "light"
     },
     "output_type": "display_data"
    }
   ],
   "source": [
    "#https://seaborn.pydata.org/generated/seaborn.catplot.html?highlight=catplot#seaborn.catplot\n",
    "\n",
    "sns.catplot(data=df_all,\n",
    "            x=\"Gender\", \n",
    "            y=\"PIQ\", \n",
    "            #palette={\"Male\": \"blue\", \"Female\": \"pink\"}, # you can also specify colours!\n",
    "            kind=\"strip\"); #experiment with different kinds, e.g. “bar”, “strip”, “swarm”, “box”, “violin”, or “boxen”.\n",
    "\n"
   ]
  },
  {
   "cell_type": "code",
   "execution_count": 38,
   "metadata": {},
   "outputs": [
    {
     "name": "stderr",
     "output_type": "stream",
     "text": [
      "C:\\Users\\K1774755\\anaconda3\\lib\\site-packages\\scipy\\stats\\stats.py:1713: FutureWarning: Using a non-tuple sequence for multidimensional indexing is deprecated; use `arr[tuple(seq)]` instead of `arr[seq]`. In the future this will be interpreted as an array index, `arr[np.array(seq)]`, which will result either in an error or a different result.\n",
      "  return np.add.reduce(sorted[indexer] * weights, axis=axis) / sumval\n"
     ]
    },
    {
     "data": {
      "image/png": "[encoded data removed]",
      "text/plain": [
       "<Figure size 421.25x360 with 1 Axes>"
      ]
     },
     "metadata": {
      "needs_background": "light"
     },
     "output_type": "display_data"
    }
   ],
   "source": [
    "# Lets add another categorical variable to the graph:\n",
    "# We want to add Diagnosed or not to the figure\n",
    "\n",
    "sns.catplot(data=df_all,\n",
    "            x=\"Gender\", \n",
    "            y=\"PIQ\", \n",
    "            hue = \"Diagnosed\",\n",
    "            #palette={\"Male\": \"blue\", \"Female\": \"pink\"}, # you can also specify colours!\n",
    "            kind=\"bar\"); #experiment with different kinds, e.g. “bar”, “strip”, “swarm”, “box”, “violin”, or “boxen”.\n",
    "\n"
   ]
  },
  {
   "cell_type": "code",
   "execution_count": 13,
   "metadata": {},
   "outputs": [],
   "source": [
    "# Lets do some correlations and make a correlation matrix\n",
    "\n",
    "corr = df_all.corr()"
   ]
  },
  {
   "cell_type": "code",
   "execution_count": 14,
   "metadata": {},
   "outputs": [
    {
     "data": {
      "text/html": [
       "<div>\n",
       "<style scoped>\n",
       "    .dataframe tbody tr th:only-of-type {\n",
       "        vertical-align: middle;\n",
       "    }\n",
       "\n",
       "    .dataframe tbody tr th {\n",
       "        vertical-align: top;\n",
       "    }\n",
       "\n",
       "    .dataframe thead th {\n",
       "        text-align: right;\n",
       "    }\n",
       "</style>\n",
       "<table border=\"1\" class=\"dataframe\">\n",
       "  <thead>\n",
       "    <tr style=\"text-align: right;\">\n",
       "      <th></th>\n",
       "      <th>ppt_id</th>\n",
       "      <th>FSIQ</th>\n",
       "      <th>VIQ</th>\n",
       "      <th>PIQ</th>\n",
       "      <th>MRI_Count</th>\n",
       "      <th>Weight</th>\n",
       "      <th>Height</th>\n",
       "    </tr>\n",
       "  </thead>\n",
       "  <tbody>\n",
       "    <tr>\n",
       "      <th>ppt_id</th>\n",
       "      <td>1.000000</td>\n",
       "      <td>-0.334072</td>\n",
       "      <td>-0.241473</td>\n",
       "      <td>-0.371150</td>\n",
       "      <td>-0.139724</td>\n",
       "      <td>0.140406</td>\n",
       "      <td>-0.051866</td>\n",
       "    </tr>\n",
       "    <tr>\n",
       "      <th>FSIQ</th>\n",
       "      <td>-0.334072</td>\n",
       "      <td>1.000000</td>\n",
       "      <td>0.946639</td>\n",
       "      <td>0.934125</td>\n",
       "      <td>0.357641</td>\n",
       "      <td>-0.051816</td>\n",
       "      <td>0.214837</td>\n",
       "    </tr>\n",
       "    <tr>\n",
       "      <th>VIQ</th>\n",
       "      <td>-0.241473</td>\n",
       "      <td>0.946639</td>\n",
       "      <td>1.000000</td>\n",
       "      <td>0.778135</td>\n",
       "      <td>0.337478</td>\n",
       "      <td>-0.065207</td>\n",
       "      <td>0.186785</td>\n",
       "    </tr>\n",
       "    <tr>\n",
       "      <th>PIQ</th>\n",
       "      <td>-0.371150</td>\n",
       "      <td>0.934125</td>\n",
       "      <td>0.778135</td>\n",
       "      <td>1.000000</td>\n",
       "      <td>0.386817</td>\n",
       "      <td>-0.006720</td>\n",
       "      <td>0.186126</td>\n",
       "    </tr>\n",
       "    <tr>\n",
       "      <th>MRI_Count</th>\n",
       "      <td>-0.139724</td>\n",
       "      <td>0.357641</td>\n",
       "      <td>0.337478</td>\n",
       "      <td>0.386817</td>\n",
       "      <td>1.000000</td>\n",
       "      <td>0.514483</td>\n",
       "      <td>0.085562</td>\n",
       "    </tr>\n",
       "    <tr>\n",
       "      <th>Weight</th>\n",
       "      <td>0.140406</td>\n",
       "      <td>-0.051816</td>\n",
       "      <td>-0.065207</td>\n",
       "      <td>-0.006720</td>\n",
       "      <td>0.514483</td>\n",
       "      <td>1.000000</td>\n",
       "      <td>0.055469</td>\n",
       "    </tr>\n",
       "    <tr>\n",
       "      <th>Height</th>\n",
       "      <td>-0.051866</td>\n",
       "      <td>0.214837</td>\n",
       "      <td>0.186785</td>\n",
       "      <td>0.186126</td>\n",
       "      <td>0.085562</td>\n",
       "      <td>0.055469</td>\n",
       "      <td>1.000000</td>\n",
       "    </tr>\n",
       "  </tbody>\n",
       "</table>\n",
       "</div>"
      ],
      "text/plain": [
       "             ppt_id      FSIQ       VIQ       PIQ  MRI_Count    Weight  \\\n",
       "ppt_id     1.000000 -0.334072 -0.241473 -0.371150  -0.139724  0.140406   \n",
       "FSIQ      -0.334072  1.000000  0.946639  0.934125   0.357641 -0.051816   \n",
       "VIQ       -0.241473  0.946639  1.000000  0.778135   0.337478 -0.065207   \n",
       "PIQ       -0.371150  0.934125  0.778135  1.000000   0.386817 -0.006720   \n",
       "MRI_Count -0.139724  0.357641  0.337478  0.386817   1.000000  0.514483   \n",
       "Weight     0.140406 -0.051816 -0.065207 -0.006720   0.514483  1.000000   \n",
       "Height    -0.051866  0.214837  0.186785  0.186126   0.085562  0.055469   \n",
       "\n",
       "             Height  \n",
       "ppt_id    -0.051866  \n",
       "FSIQ       0.214837  \n",
       "VIQ        0.186785  \n",
       "PIQ        0.186126  \n",
       "MRI_Count  0.085562  \n",
       "Weight     0.055469  \n",
       "Height     1.000000  "
      ]
     },
     "execution_count": 14,
     "metadata": {},
     "output_type": "execute_result"
    }
   ],
   "source": [
    "corr"
   ]
  },
  {
   "cell_type": "code",
   "execution_count": 15,
   "metadata": {},
   "outputs": [
    {
     "data": {
      "text/html": [
       "<style  type=\"text/css\" >\n",
       "    #T_7842b8da_2958_11e9_92eb_34f39ae2ae90row0_col0 {\n",
       "            background-color:  #023858;\n",
       "        }    #T_7842b8da_2958_11e9_92eb_34f39ae2ae90row0_col1 {\n",
       "            background-color:  #fff7fb;\n",
       "        }    #T_7842b8da_2958_11e9_92eb_34f39ae2ae90row0_col2 {\n",
       "            background-color:  #fff7fb;\n",
       "        }    #T_7842b8da_2958_11e9_92eb_34f39ae2ae90row0_col3 {\n",
       "            background-color:  #fff7fb;\n",
       "        }    #T_7842b8da_2958_11e9_92eb_34f39ae2ae90row0_col4 {\n",
       "            background-color:  #fff7fb;\n",
       "        }    #T_7842b8da_2958_11e9_92eb_34f39ae2ae90row0_col5 {\n",
       "            background-color:  #dddbec;\n",
       "        }    #T_7842b8da_2958_11e9_92eb_34f39ae2ae90row0_col6 {\n",
       "            background-color:  #fff7fb;\n",
       "        }    #T_7842b8da_2958_11e9_92eb_34f39ae2ae90row1_col0 {\n",
       "            background-color:  #fbf4f9;\n",
       "        }    #T_7842b8da_2958_11e9_92eb_34f39ae2ae90row1_col1 {\n",
       "            background-color:  #023858;\n",
       "        }    #T_7842b8da_2958_11e9_92eb_34f39ae2ae90row1_col2 {\n",
       "            background-color:  #03446a;\n",
       "        }    #T_7842b8da_2958_11e9_92eb_34f39ae2ae90row1_col3 {\n",
       "            background-color:  #03456c;\n",
       "        }    #T_7842b8da_2958_11e9_92eb_34f39ae2ae90row1_col4 {\n",
       "            background-color:  #8eb3d5;\n",
       "        }    #T_7842b8da_2958_11e9_92eb_34f39ae2ae90row1_col5 {\n",
       "            background-color:  #fdf5fa;\n",
       "        }    #T_7842b8da_2958_11e9_92eb_34f39ae2ae90row1_col6 {\n",
       "            background-color:  #d0d1e6;\n",
       "        }    #T_7842b8da_2958_11e9_92eb_34f39ae2ae90row2_col0 {\n",
       "            background-color:  #f1ebf4;\n",
       "        }    #T_7842b8da_2958_11e9_92eb_34f39ae2ae90row2_col1 {\n",
       "            background-color:  #034369;\n",
       "        }    #T_7842b8da_2958_11e9_92eb_34f39ae2ae90row2_col2 {\n",
       "            background-color:  #023858;\n",
       "        }    #T_7842b8da_2958_11e9_92eb_34f39ae2ae90row2_col3 {\n",
       "            background-color:  #046097;\n",
       "        }    #T_7842b8da_2958_11e9_92eb_34f39ae2ae90row2_col4 {\n",
       "            background-color:  #94b6d7;\n",
       "        }    #T_7842b8da_2958_11e9_92eb_34f39ae2ae90row2_col5 {\n",
       "            background-color:  #fff7fb;\n",
       "        }    #T_7842b8da_2958_11e9_92eb_34f39ae2ae90row2_col6 {\n",
       "            background-color:  #d5d5e8;\n",
       "        }    #T_7842b8da_2958_11e9_92eb_34f39ae2ae90row3_col0 {\n",
       "            background-color:  #fff7fb;\n",
       "        }    #T_7842b8da_2958_11e9_92eb_34f39ae2ae90row3_col1 {\n",
       "            background-color:  #03456c;\n",
       "        }    #T_7842b8da_2958_11e9_92eb_34f39ae2ae90row3_col2 {\n",
       "            background-color:  #04639b;\n",
       "        }    #T_7842b8da_2958_11e9_92eb_34f39ae2ae90row3_col3 {\n",
       "            background-color:  #023858;\n",
       "        }    #T_7842b8da_2958_11e9_92eb_34f39ae2ae90row3_col4 {\n",
       "            background-color:  #83afd3;\n",
       "        }    #T_7842b8da_2958_11e9_92eb_34f39ae2ae90row3_col5 {\n",
       "            background-color:  #f7f0f7;\n",
       "        }    #T_7842b8da_2958_11e9_92eb_34f39ae2ae90row3_col6 {\n",
       "            background-color:  #d6d6e9;\n",
       "        }    #T_7842b8da_2958_11e9_92eb_34f39ae2ae90row4_col0 {\n",
       "            background-color:  #e2dfee;\n",
       "        }    #T_7842b8da_2958_11e9_92eb_34f39ae2ae90row4_col1 {\n",
       "            background-color:  #6ba5cd;\n",
       "        }    #T_7842b8da_2958_11e9_92eb_34f39ae2ae90row4_col2 {\n",
       "            background-color:  #81aed2;\n",
       "        }    #T_7842b8da_2958_11e9_92eb_34f39ae2ae90row4_col3 {\n",
       "            background-color:  #5a9ec9;\n",
       "        }    #T_7842b8da_2958_11e9_92eb_34f39ae2ae90row4_col4 {\n",
       "            background-color:  #023858;\n",
       "        }    #T_7842b8da_2958_11e9_92eb_34f39ae2ae90row4_col5 {\n",
       "            background-color:  #5ea0ca;\n",
       "        }    #T_7842b8da_2958_11e9_92eb_34f39ae2ae90row4_col6 {\n",
       "            background-color:  #ebe6f2;\n",
       "        }    #T_7842b8da_2958_11e9_92eb_34f39ae2ae90row5_col0 {\n",
       "            background-color:  #a7bddb;\n",
       "        }    #T_7842b8da_2958_11e9_92eb_34f39ae2ae90row5_col1 {\n",
       "            background-color:  #d9d8ea;\n",
       "        }    #T_7842b8da_2958_11e9_92eb_34f39ae2ae90row5_col2 {\n",
       "            background-color:  #e8e4f0;\n",
       "        }    #T_7842b8da_2958_11e9_92eb_34f39ae2ae90row5_col3 {\n",
       "            background-color:  #cacee5;\n",
       "        }    #T_7842b8da_2958_11e9_92eb_34f39ae2ae90row5_col4 {\n",
       "            background-color:  #509ac6;\n",
       "        }    #T_7842b8da_2958_11e9_92eb_34f39ae2ae90row5_col5 {\n",
       "            background-color:  #023858;\n",
       "        }    #T_7842b8da_2958_11e9_92eb_34f39ae2ae90row5_col6 {\n",
       "            background-color:  #f0eaf4;\n",
       "        }    #T_7842b8da_2958_11e9_92eb_34f39ae2ae90row6_col0 {\n",
       "            background-color:  #d4d4e8;\n",
       "        }    #T_7842b8da_2958_11e9_92eb_34f39ae2ae90row6_col1 {\n",
       "            background-color:  #97b7d7;\n",
       "        }    #T_7842b8da_2958_11e9_92eb_34f39ae2ae90row6_col2 {\n",
       "            background-color:  #b0c2de;\n",
       "        }    #T_7842b8da_2958_11e9_92eb_34f39ae2ae90row6_col3 {\n",
       "            background-color:  #99b8d8;\n",
       "        }    #T_7842b8da_2958_11e9_92eb_34f39ae2ae90row6_col4 {\n",
       "            background-color:  #dcdaeb;\n",
       "        }    #T_7842b8da_2958_11e9_92eb_34f39ae2ae90row6_col5 {\n",
       "            background-color:  #eee8f3;\n",
       "        }    #T_7842b8da_2958_11e9_92eb_34f39ae2ae90row6_col6 {\n",
       "            background-color:  #023858;\n",
       "        }</style>  \n",
       "<table id=\"T_7842b8da_2958_11e9_92eb_34f39ae2ae90\" > \n",
       "<thead>    <tr> \n",
       "        <th class=\"blank level0\" ></th> \n",
       "        <th class=\"col_heading level0 col0\" >ppt_id</th> \n",
       "        <th class=\"col_heading level0 col1\" >FSIQ</th> \n",
       "        <th class=\"col_heading level0 col2\" >VIQ</th> \n",
       "        <th class=\"col_heading level0 col3\" >PIQ</th> \n",
       "        <th class=\"col_heading level0 col4\" >MRI_Count</th> \n",
       "        <th class=\"col_heading level0 col5\" >Weight</th> \n",
       "        <th class=\"col_heading level0 col6\" >Height</th> \n",
       "    </tr></thead> \n",
       "<tbody>    <tr> \n",
       "        <th id=\"T_7842b8da_2958_11e9_92eb_34f39ae2ae90level0_row0\" class=\"row_heading level0 row0\" >ppt_id</th> \n",
       "        <td id=\"T_7842b8da_2958_11e9_92eb_34f39ae2ae90row0_col0\" class=\"data row0 col0\" >1</td> \n",
       "        <td id=\"T_7842b8da_2958_11e9_92eb_34f39ae2ae90row0_col1\" class=\"data row0 col1\" >-0.33</td> \n",
       "        <td id=\"T_7842b8da_2958_11e9_92eb_34f39ae2ae90row0_col2\" class=\"data row0 col2\" >-0.24</td> \n",
       "        <td id=\"T_7842b8da_2958_11e9_92eb_34f39ae2ae90row0_col3\" class=\"data row0 col3\" >-0.37</td> \n",
       "        <td id=\"T_7842b8da_2958_11e9_92eb_34f39ae2ae90row0_col4\" class=\"data row0 col4\" >-0.14</td> \n",
       "        <td id=\"T_7842b8da_2958_11e9_92eb_34f39ae2ae90row0_col5\" class=\"data row0 col5\" >0.14</td> \n",
       "        <td id=\"T_7842b8da_2958_11e9_92eb_34f39ae2ae90row0_col6\" class=\"data row0 col6\" >-0.052</td> \n",
       "    </tr>    <tr> \n",
       "        <th id=\"T_7842b8da_2958_11e9_92eb_34f39ae2ae90level0_row1\" class=\"row_heading level0 row1\" >FSIQ</th> \n",
       "        <td id=\"T_7842b8da_2958_11e9_92eb_34f39ae2ae90row1_col0\" class=\"data row1 col0\" >-0.33</td> \n",
       "        <td id=\"T_7842b8da_2958_11e9_92eb_34f39ae2ae90row1_col1\" class=\"data row1 col1\" >1</td> \n",
       "        <td id=\"T_7842b8da_2958_11e9_92eb_34f39ae2ae90row1_col2\" class=\"data row1 col2\" >0.95</td> \n",
       "        <td id=\"T_7842b8da_2958_11e9_92eb_34f39ae2ae90row1_col3\" class=\"data row1 col3\" >0.93</td> \n",
       "        <td id=\"T_7842b8da_2958_11e9_92eb_34f39ae2ae90row1_col4\" class=\"data row1 col4\" >0.36</td> \n",
       "        <td id=\"T_7842b8da_2958_11e9_92eb_34f39ae2ae90row1_col5\" class=\"data row1 col5\" >-0.052</td> \n",
       "        <td id=\"T_7842b8da_2958_11e9_92eb_34f39ae2ae90row1_col6\" class=\"data row1 col6\" >0.21</td> \n",
       "    </tr>    <tr> \n",
       "        <th id=\"T_7842b8da_2958_11e9_92eb_34f39ae2ae90level0_row2\" class=\"row_heading level0 row2\" >VIQ</th> \n",
       "        <td id=\"T_7842b8da_2958_11e9_92eb_34f39ae2ae90row2_col0\" class=\"data row2 col0\" >-0.24</td> \n",
       "        <td id=\"T_7842b8da_2958_11e9_92eb_34f39ae2ae90row2_col1\" class=\"data row2 col1\" >0.95</td> \n",
       "        <td id=\"T_7842b8da_2958_11e9_92eb_34f39ae2ae90row2_col2\" class=\"data row2 col2\" >1</td> \n",
       "        <td id=\"T_7842b8da_2958_11e9_92eb_34f39ae2ae90row2_col3\" class=\"data row2 col3\" >0.78</td> \n",
       "        <td id=\"T_7842b8da_2958_11e9_92eb_34f39ae2ae90row2_col4\" class=\"data row2 col4\" >0.34</td> \n",
       "        <td id=\"T_7842b8da_2958_11e9_92eb_34f39ae2ae90row2_col5\" class=\"data row2 col5\" >-0.065</td> \n",
       "        <td id=\"T_7842b8da_2958_11e9_92eb_34f39ae2ae90row2_col6\" class=\"data row2 col6\" >0.19</td> \n",
       "    </tr>    <tr> \n",
       "        <th id=\"T_7842b8da_2958_11e9_92eb_34f39ae2ae90level0_row3\" class=\"row_heading level0 row3\" >PIQ</th> \n",
       "        <td id=\"T_7842b8da_2958_11e9_92eb_34f39ae2ae90row3_col0\" class=\"data row3 col0\" >-0.37</td> \n",
       "        <td id=\"T_7842b8da_2958_11e9_92eb_34f39ae2ae90row3_col1\" class=\"data row3 col1\" >0.93</td> \n",
       "        <td id=\"T_7842b8da_2958_11e9_92eb_34f39ae2ae90row3_col2\" class=\"data row3 col2\" >0.78</td> \n",
       "        <td id=\"T_7842b8da_2958_11e9_92eb_34f39ae2ae90row3_col3\" class=\"data row3 col3\" >1</td> \n",
       "        <td id=\"T_7842b8da_2958_11e9_92eb_34f39ae2ae90row3_col4\" class=\"data row3 col4\" >0.39</td> \n",
       "        <td id=\"T_7842b8da_2958_11e9_92eb_34f39ae2ae90row3_col5\" class=\"data row3 col5\" >-0.0067</td> \n",
       "        <td id=\"T_7842b8da_2958_11e9_92eb_34f39ae2ae90row3_col6\" class=\"data row3 col6\" >0.19</td> \n",
       "    </tr>    <tr> \n",
       "        <th id=\"T_7842b8da_2958_11e9_92eb_34f39ae2ae90level0_row4\" class=\"row_heading level0 row4\" >MRI_Count</th> \n",
       "        <td id=\"T_7842b8da_2958_11e9_92eb_34f39ae2ae90row4_col0\" class=\"data row4 col0\" >-0.14</td> \n",
       "        <td id=\"T_7842b8da_2958_11e9_92eb_34f39ae2ae90row4_col1\" class=\"data row4 col1\" >0.36</td> \n",
       "        <td id=\"T_7842b8da_2958_11e9_92eb_34f39ae2ae90row4_col2\" class=\"data row4 col2\" >0.34</td> \n",
       "        <td id=\"T_7842b8da_2958_11e9_92eb_34f39ae2ae90row4_col3\" class=\"data row4 col3\" >0.39</td> \n",
       "        <td id=\"T_7842b8da_2958_11e9_92eb_34f39ae2ae90row4_col4\" class=\"data row4 col4\" >1</td> \n",
       "        <td id=\"T_7842b8da_2958_11e9_92eb_34f39ae2ae90row4_col5\" class=\"data row4 col5\" >0.51</td> \n",
       "        <td id=\"T_7842b8da_2958_11e9_92eb_34f39ae2ae90row4_col6\" class=\"data row4 col6\" >0.086</td> \n",
       "    </tr>    <tr> \n",
       "        <th id=\"T_7842b8da_2958_11e9_92eb_34f39ae2ae90level0_row5\" class=\"row_heading level0 row5\" >Weight</th> \n",
       "        <td id=\"T_7842b8da_2958_11e9_92eb_34f39ae2ae90row5_col0\" class=\"data row5 col0\" >0.14</td> \n",
       "        <td id=\"T_7842b8da_2958_11e9_92eb_34f39ae2ae90row5_col1\" class=\"data row5 col1\" >-0.052</td> \n",
       "        <td id=\"T_7842b8da_2958_11e9_92eb_34f39ae2ae90row5_col2\" class=\"data row5 col2\" >-0.065</td> \n",
       "        <td id=\"T_7842b8da_2958_11e9_92eb_34f39ae2ae90row5_col3\" class=\"data row5 col3\" >-0.0067</td> \n",
       "        <td id=\"T_7842b8da_2958_11e9_92eb_34f39ae2ae90row5_col4\" class=\"data row5 col4\" >0.51</td> \n",
       "        <td id=\"T_7842b8da_2958_11e9_92eb_34f39ae2ae90row5_col5\" class=\"data row5 col5\" >1</td> \n",
       "        <td id=\"T_7842b8da_2958_11e9_92eb_34f39ae2ae90row5_col6\" class=\"data row5 col6\" >0.055</td> \n",
       "    </tr>    <tr> \n",
       "        <th id=\"T_7842b8da_2958_11e9_92eb_34f39ae2ae90level0_row6\" class=\"row_heading level0 row6\" >Height</th> \n",
       "        <td id=\"T_7842b8da_2958_11e9_92eb_34f39ae2ae90row6_col0\" class=\"data row6 col0\" >-0.052</td> \n",
       "        <td id=\"T_7842b8da_2958_11e9_92eb_34f39ae2ae90row6_col1\" class=\"data row6 col1\" >0.21</td> \n",
       "        <td id=\"T_7842b8da_2958_11e9_92eb_34f39ae2ae90row6_col2\" class=\"data row6 col2\" >0.19</td> \n",
       "        <td id=\"T_7842b8da_2958_11e9_92eb_34f39ae2ae90row6_col3\" class=\"data row6 col3\" >0.19</td> \n",
       "        <td id=\"T_7842b8da_2958_11e9_92eb_34f39ae2ae90row6_col4\" class=\"data row6 col4\" >0.086</td> \n",
       "        <td id=\"T_7842b8da_2958_11e9_92eb_34f39ae2ae90row6_col5\" class=\"data row6 col5\" >0.055</td> \n",
       "        <td id=\"T_7842b8da_2958_11e9_92eb_34f39ae2ae90row6_col6\" class=\"data row6 col6\" >1</td> \n",
       "    </tr></tbody> \n",
       "</table> "
      ],
      "text/plain": [
       "<pandas.io.formats.style.Styler at 0x203b9a8c5c0>"
      ]
     },
     "execution_count": 15,
     "metadata": {},
     "output_type": "execute_result"
    }
   ],
   "source": [
    "# Now lets add some colour to help differentiate between variables\n",
    "\n",
    "corr.style.background_gradient().set_precision(2)"
   ]
  },
  {
   "cell_type": "markdown",
   "metadata": {},
   "source": [
    "If you want to calculate pearson r then you can use the function below, don't worry about the code, I will show you to implement it"
   ]
  },
  {
   "cell_type": "code",
   "execution_count": 16,
   "metadata": {},
   "outputs": [],
   "source": [
    "from scipy.stats import pearsonr\n",
    "import pandas as pd\n",
    "\n",
    "def calculate_pvalues(df):\n",
    "    df = df.dropna()._get_numeric_data()\n",
    "    dfcols = pd.DataFrame(columns=df.columns)\n",
    "    pvalues = dfcols.transpose().join(dfcols, how='outer')\n",
    "    for r in df.columns:\n",
    "        for c in df.columns:\n",
    "            pvalues[r][c] = round(pearsonr(df[r], df[c])[1], 4)\n",
    "    return pvalues"
   ]
  },
  {
   "cell_type": "code",
   "execution_count": 17,
   "metadata": {},
   "outputs": [
    {
     "data": {
      "text/html": [
       "<div>\n",
       "<style scoped>\n",
       "    .dataframe tbody tr th:only-of-type {\n",
       "        vertical-align: middle;\n",
       "    }\n",
       "\n",
       "    .dataframe tbody tr th {\n",
       "        vertical-align: top;\n",
       "    }\n",
       "\n",
       "    .dataframe thead th {\n",
       "        text-align: right;\n",
       "    }\n",
       "</style>\n",
       "<table border=\"1\" class=\"dataframe\">\n",
       "  <thead>\n",
       "    <tr style=\"text-align: right;\">\n",
       "      <th></th>\n",
       "      <th>ppt_id</th>\n",
       "      <th>FSIQ</th>\n",
       "      <th>VIQ</th>\n",
       "      <th>PIQ</th>\n",
       "      <th>MRI_Count</th>\n",
       "      <th>Weight</th>\n",
       "      <th>Height</th>\n",
       "    </tr>\n",
       "  </thead>\n",
       "  <tbody>\n",
       "    <tr>\n",
       "      <th>ppt_id</th>\n",
       "      <td>0</td>\n",
       "      <td>0.0351</td>\n",
       "      <td>0.1333</td>\n",
       "      <td>0.0184</td>\n",
       "      <td>0.3898</td>\n",
       "      <td>0.3875</td>\n",
       "      <td>0.7506</td>\n",
       "    </tr>\n",
       "    <tr>\n",
       "      <th>FSIQ</th>\n",
       "      <td>0.0351</td>\n",
       "      <td>0</td>\n",
       "      <td>0</td>\n",
       "      <td>0</td>\n",
       "      <td>0.0235</td>\n",
       "      <td>0.7508</td>\n",
       "      <td>0.1831</td>\n",
       "    </tr>\n",
       "    <tr>\n",
       "      <th>VIQ</th>\n",
       "      <td>0.1333</td>\n",
       "      <td>0</td>\n",
       "      <td>0</td>\n",
       "      <td>0</td>\n",
       "      <td>0.0332</td>\n",
       "      <td>0.6893</td>\n",
       "      <td>0.2485</td>\n",
       "    </tr>\n",
       "    <tr>\n",
       "      <th>PIQ</th>\n",
       "      <td>0.0184</td>\n",
       "      <td>0</td>\n",
       "      <td>0</td>\n",
       "      <td>0</td>\n",
       "      <td>0.0137</td>\n",
       "      <td>0.9672</td>\n",
       "      <td>0.2502</td>\n",
       "    </tr>\n",
       "    <tr>\n",
       "      <th>MRI_Count</th>\n",
       "      <td>0.3898</td>\n",
       "      <td>0.0235</td>\n",
       "      <td>0.0332</td>\n",
       "      <td>0.0137</td>\n",
       "      <td>0</td>\n",
       "      <td>0.0007</td>\n",
       "      <td>0.5996</td>\n",
       "    </tr>\n",
       "    <tr>\n",
       "      <th>Weight</th>\n",
       "      <td>0.3875</td>\n",
       "      <td>0.7508</td>\n",
       "      <td>0.6893</td>\n",
       "      <td>0.9672</td>\n",
       "      <td>0.0007</td>\n",
       "      <td>0</td>\n",
       "      <td>0.7339</td>\n",
       "    </tr>\n",
       "    <tr>\n",
       "      <th>Height</th>\n",
       "      <td>0.7506</td>\n",
       "      <td>0.1831</td>\n",
       "      <td>0.2485</td>\n",
       "      <td>0.2502</td>\n",
       "      <td>0.5996</td>\n",
       "      <td>0.7339</td>\n",
       "      <td>0</td>\n",
       "    </tr>\n",
       "  </tbody>\n",
       "</table>\n",
       "</div>"
      ],
      "text/plain": [
       "           ppt_id    FSIQ     VIQ     PIQ MRI_Count  Weight  Height\n",
       "ppt_id          0  0.0351  0.1333  0.0184    0.3898  0.3875  0.7506\n",
       "FSIQ       0.0351       0       0       0    0.0235  0.7508  0.1831\n",
       "VIQ        0.1333       0       0       0    0.0332  0.6893  0.2485\n",
       "PIQ        0.0184       0       0       0    0.0137  0.9672  0.2502\n",
       "MRI_Count  0.3898  0.0235  0.0332  0.0137         0  0.0007  0.5996\n",
       "Weight     0.3875  0.7508  0.6893  0.9672    0.0007       0  0.7339\n",
       "Height     0.7506  0.1831  0.2485  0.2502    0.5996  0.7339       0"
      ]
     },
     "execution_count": 17,
     "metadata": {},
     "output_type": "execute_result"
    }
   ],
   "source": [
    "calculate_pvalues(df_all)"
   ]
  },
  {
   "cell_type": "code",
   "execution_count": null,
   "metadata": {
    "collapsed": true
   },
   "outputs": [],
   "source": [
    "#Exploring scatterplots\n",
    "\n",
    "#https://seaborn.pydata.org/generated/seaborn.scatterplot.html"
   ]
  },
  {
   "cell_type": "code",
   "execution_count": 50,
   "metadata": {},
   "outputs": [
    {
     "data": {
      "text/plain": [
       "<matplotlib.axes._subplots.AxesSubplot at 0x205556987f0>"
      ]
     },
     "execution_count": 50,
     "metadata": {},
     "output_type": "execute_result"
    },
    {
     "data": {
      "image/png": "[encoded data removed]",
      "text/plain": [
       "<Figure size 432x288 with 1 Axes>"
      ]
     },
     "metadata": {
      "needs_background": "light"
     },
     "output_type": "display_data"
    }
   ],
   "source": [
    "sns.scatterplot(x=\"FSIQ\", y=\"PIQ\", data=df_all)"
   ]
  },
  {
   "cell_type": "code",
   "execution_count": 51,
   "metadata": {},
   "outputs": [
    {
     "data": {
      "text/plain": [
       "<matplotlib.axes._subplots.AxesSubplot at 0x20555732ef0>"
      ]
     },
     "execution_count": 51,
     "metadata": {},
     "output_type": "execute_result"
    },
    {
     "data": {
      "image/png": "[encoded data removed]",
      "text/plain": [
       "<Figure size 432x288 with 1 Axes>"
      ]
     },
     "metadata": {
      "needs_background": "light"
     },
     "output_type": "display_data"
    }
   ],
   "source": [
    "#plt.figure(figsize=(10,8))\n",
    "\n",
    "sns.scatterplot(data=df_all,\n",
    "                x=\"FSIQ\", \n",
    "                y=\"PIQ\", \n",
    "                hue=\"Gender\",) #experiment with different categorical 'hues', e.g. Diagnosed\n",
    "                #size = \"Height\") # Explore what the size argument does...\n"
   ]
  },
  {
   "cell_type": "code",
   "execution_count": 52,
   "metadata": {},
   "outputs": [
    {
     "data": {
      "image/png": "[encoded data removed]",
      "text/plain": [
       "<Figure size 432x288 with 1 Axes>"
      ]
     },
     "metadata": {
      "needs_background": "light"
     },
     "output_type": "display_data"
    }
   ],
   "source": [
    "# Saving your figures for publication\n",
    "\n",
    "# assign the code to a random variable (something like g = )\n",
    "\n",
    "g = sns.scatterplot(data=df_all,\n",
    "                x=\"FSIQ\", \n",
    "                y=\"PIQ\", \n",
    "                hue=\"Gender\",) #experiment with different categorical 'hues', e.g. Diagnosed\n",
    "                #size = \"Height\") # Explore what the size argument does...\n",
    "\n",
    "    \n",
    "# Use the savefig argument and provide a filename, such as figure1.png\n",
    "# You can use keyword arguments based on your journal's submission requirements\n",
    "# For exmaple, for the British Journal of Psychiatry (https://www.cambridge.org/core/services/authors/journals/journals-artwork-guide)\n",
    "# they want images at 300dpi and ideally in TIFF format, so you can save your figure appropriately\n",
    "# So check with your submission guidelines and provide the appropriate arguments\n",
    "# Tip: for posters, you might want to use the transparancy argument\n",
    "\n",
    "g.figure.savefig(\"output.tiff\", dpi = 300, transparency = True)"
   ]
  },
  {
   "cell_type": "code",
   "execution_count": 54,
   "metadata": {},
   "outputs": [
    {
     "data": {
      "text/html": [
       "<div>\n",
       "<style scoped>\n",
       "    .dataframe tbody tr th:only-of-type {\n",
       "        vertical-align: middle;\n",
       "    }\n",
       "\n",
       "    .dataframe tbody tr th {\n",
       "        vertical-align: top;\n",
       "    }\n",
       "\n",
       "    .dataframe thead th {\n",
       "        text-align: right;\n",
       "    }\n",
       "</style>\n",
       "<table border=\"1\" class=\"dataframe\">\n",
       "  <thead>\n",
       "    <tr style=\"text-align: right;\">\n",
       "      <th></th>\n",
       "      <th>ppt_id</th>\n",
       "      <th>FSIQ</th>\n",
       "      <th>VIQ</th>\n",
       "      <th>PIQ</th>\n",
       "      <th>MRI_Count</th>\n",
       "      <th>Gender</th>\n",
       "      <th>Weight</th>\n",
       "      <th>Height</th>\n",
       "      <th>Diagnosed</th>\n",
       "    </tr>\n",
       "  </thead>\n",
       "  <tbody>\n",
       "    <tr>\n",
       "      <th>0</th>\n",
       "      <td>1</td>\n",
       "      <td>133</td>\n",
       "      <td>132</td>\n",
       "      <td>124</td>\n",
       "      <td>816932</td>\n",
       "      <td>Female</td>\n",
       "      <td>118.000000</td>\n",
       "      <td>645.0</td>\n",
       "      <td>Yes</td>\n",
       "    </tr>\n",
       "    <tr>\n",
       "      <th>1</th>\n",
       "      <td>2</td>\n",
       "      <td>140</td>\n",
       "      <td>150</td>\n",
       "      <td>124</td>\n",
       "      <td>1001121</td>\n",
       "      <td>Male</td>\n",
       "      <td>166.444444</td>\n",
       "      <td>725.0</td>\n",
       "      <td>No</td>\n",
       "    </tr>\n",
       "    <tr>\n",
       "      <th>2</th>\n",
       "      <td>3</td>\n",
       "      <td>139</td>\n",
       "      <td>123</td>\n",
       "      <td>150</td>\n",
       "      <td>1038437</td>\n",
       "      <td>Male</td>\n",
       "      <td>143.000000</td>\n",
       "      <td>733.0</td>\n",
       "      <td>Yes</td>\n",
       "    </tr>\n",
       "    <tr>\n",
       "      <th>3</th>\n",
       "      <td>4</td>\n",
       "      <td>133</td>\n",
       "      <td>129</td>\n",
       "      <td>128</td>\n",
       "      <td>965353</td>\n",
       "      <td>Male</td>\n",
       "      <td>172.000000</td>\n",
       "      <td>688.0</td>\n",
       "      <td>No</td>\n",
       "    </tr>\n",
       "    <tr>\n",
       "      <th>4</th>\n",
       "      <td>5</td>\n",
       "      <td>137</td>\n",
       "      <td>132</td>\n",
       "      <td>134</td>\n",
       "      <td>951545</td>\n",
       "      <td>Female</td>\n",
       "      <td>147.000000</td>\n",
       "      <td>65.0</td>\n",
       "      <td>Yes</td>\n",
       "    </tr>\n",
       "  </tbody>\n",
       "</table>\n",
       "</div>"
      ],
      "text/plain": [
       "   ppt_id  FSIQ  VIQ  PIQ  MRI_Count  Gender      Weight  Height Diagnosed\n",
       "0       1   133  132  124     816932  Female  118.000000   645.0       Yes\n",
       "1       2   140  150  124    1001121    Male  166.444444   725.0        No\n",
       "2       3   139  123  150    1038437    Male  143.000000   733.0       Yes\n",
       "3       4   133  129  128     965353    Male  172.000000   688.0        No\n",
       "4       5   137  132  134     951545  Female  147.000000    65.0       Yes"
      ]
     },
     "execution_count": 54,
     "metadata": {},
     "output_type": "execute_result"
    }
   ],
   "source": [
    "df_all.head()"
   ]
  },
  {
   "cell_type": "markdown",
   "metadata": {},
   "source": [
    "# Statistics in Python"
   ]
  },
  {
   "cell_type": "markdown",
   "metadata": {},
   "source": [
    "##### IV = Gender (Male, Female), also Diagnoses (Yes, No)\n",
    "##### DV = IQ Scores (FSIQ, VIQ, PIQ)"
   ]
  },
  {
   "cell_type": "markdown",
   "metadata": {},
   "source": [
    "We want to test if there is a difference in IQ measures between genders? Or \"diagnosed\"? What tests can we use?"
   ]
  },
  {
   "cell_type": "code",
   "execution_count": 18,
   "metadata": {},
   "outputs": [],
   "source": [
    "# There are two libraries (that i know of anyway) to do stats in Python - scipy and statsmodels\n",
    "\n",
    "# Lets start with scipy and we will compare the syntax and output with statsmodel\n",
    "\n",
    "# Import as below...\n",
    "\n",
    "import scipy.stats as stats"
   ]
  },
  {
   "cell_type": "code",
   "execution_count": 23,
   "metadata": {},
   "outputs": [],
   "source": [
    "import matplotlib.pyplot as plt\n",
    "from IPython.display import display\n",
    "import seaborn as sns"
   ]
  },
  {
   "cell_type": "markdown",
   "metadata": {},
   "source": [
    "### Assumption of normality\n",
    "\n",
    "#### Shapiro-wilk test (output = w test statistic, p value)"
   ]
  },
  {
   "cell_type": "code",
   "execution_count": 19,
   "metadata": {},
   "outputs": [
    {
     "name": "stdout",
     "output_type": "stream",
     "text": [
      "(0.8300552368164062, 3.057045250898227e-05)\n",
      "(0.8203510046005249, 0.0017663020407781005)\n"
     ]
    }
   ],
   "source": [
    "print(stats.shapiro(df_all[\"FSIQ\"]))\n",
    "\n",
    "# consider the difference between the above and the below commented code:\n",
    "\n",
    "print(stats.shapiro(df_all[\"FSIQ\"][df_all['Gender'] == 'Male']))"
   ]
  },
  {
   "cell_type": "code",
   "execution_count": 20,
   "metadata": {},
   "outputs": [
    {
     "name": "stdout",
     "output_type": "stream",
     "text": [
      "(0.9278565645217896, 0.01371842809021473)\n",
      "(0.9212857484817505, 0.008454390801489353)\n"
     ]
    }
   ],
   "source": [
    "# You can also test other DVs\n",
    "\n",
    "print(stats.shapiro(df_all[\"PIQ\"]))\n",
    "print(stats.shapiro(df_all[\"VIQ\"]))"
   ]
  },
  {
   "cell_type": "code",
   "execution_count": 67,
   "metadata": {},
   "outputs": [
    {
     "data": {
      "image/png": "[encoded data removed]",
      "text/plain": [
       "<Figure size 432x288 with 1 Axes>"
      ]
     },
     "metadata": {
      "needs_background": "light"
     },
     "output_type": "display_data"
    }
   ],
   "source": [
    "# Now lets make some Q-Q Plots\n",
    "stats.probplot(df_all[\"FSIQ\"],plot= plt)\n",
    "\n",
    "# Give your figure a title\n",
    "plt.title(\"FSIQ Q-Q Plot\");"
   ]
  },
  {
   "cell_type": "code",
   "execution_count": 24,
   "metadata": {},
   "outputs": [
    {
     "name": "stdout",
     "output_type": "stream",
     "text": [
      "FSIQ\n",
      "(0.8203510046005249, 0.0017663020407781005)\n",
      "PIQ\n",
      "(0.9154750108718872, 0.08110667765140533)\n",
      "VIQ\n",
      "(0.881869912147522, 0.0191198717802763)\n",
      "\n",
      "\n",
      "Assumption of normality is violated as (all) the p-values are < than 0.05.\n"
     ]
    },
    {
     "data": {
      "image/png": "[encoded data removed]",
      "text/plain": [
       "<Figure size 432x288 with 1 Axes>"
      ]
     },
     "metadata": {
      "needs_background": "light"
     },
     "output_type": "display_data"
    }
   ],
   "source": [
    "# Lets make a loop and test all three of our IQ DVs in one go:\n",
    "\n",
    "# First make a list variable called cols with your DVs in it\n",
    "cols = ['FSIQ', 'PIQ', 'VIQ']\n",
    "\n",
    "# Then make a loop using the for statement. This will loop through every item in cols\n",
    "# and do you tell it to do, in this case, we are telling it to do stats.shapiro\n",
    "for i in cols:\n",
    "    print(i)\n",
    "    print(stats.shapiro(df_all[i][df_all['Gender'] == 'Male']))\n",
    "    \n",
    "for i in cols:\n",
    "    stats.probplot(df_all[i][df_all['Gender'] == 'Male'], plot= plt)\n",
    "    plt.title(\"Mental Health Q-Q Plot\")\n",
    "    \n",
    "print(\"\\n\\nAssumption of normality is violated as (all) the p-values are < than 0.05.\")"
   ]
  },
  {
   "cell_type": "markdown",
   "metadata": {},
   "source": [
    "##### Levene's Test "
   ]
  },
  {
   "cell_type": "code",
   "execution_count": 25,
   "metadata": {},
   "outputs": [],
   "source": [
    "levene_1 = df_all[\"PIQ\"][df_all['Gender'] == 'Male']\n",
    "levene_2 = df_all[\"PIQ\"][df_all['Gender'] == 'Female']"
   ]
  },
  {
   "cell_type": "code",
   "execution_count": 26,
   "metadata": {},
   "outputs": [
    {
     "data": {
      "text/plain": [
       "LeveneResult(statistic=0.1050579590471509, pvalue=0.7476197031711318)"
      ]
     },
     "execution_count": 26,
     "metadata": {},
     "output_type": "execute_result"
    }
   ],
   "source": [
    "stats.levene(levene_1, levene_2)"
   ]
  },
  {
   "cell_type": "code",
   "execution_count": null,
   "metadata": {},
   "outputs": [],
   "source": [
    "# Lets make a quick loop so we can run a levene's test on all our DVs\n",
    "\n",
    "for i in cols:\n",
    "    print(i , ':' , stats.levene(df_all[i][df_all['Gender'] == 'Male'], \n",
    "                                 df_all[i][df_all['Gender'] == 'Female']))"
   ]
  },
  {
   "cell_type": "markdown",
   "metadata": {},
   "source": [
    "##### ANOVA "
   ]
  },
  {
   "cell_type": "code",
   "execution_count": 27,
   "metadata": {},
   "outputs": [],
   "source": [
    "# We will statsmodels because the output is better (more readable)\n",
    "\n",
    "import statsmodels.api as sm\n",
    "from statsmodels.formula.api import ols\n",
    "\n",
    "# Documentation here: https://www.statsmodels.org/stable/index.html"
   ]
  },
  {
   "cell_type": "code",
   "execution_count": 28,
   "metadata": {},
   "outputs": [],
   "source": [
    "results = ols(\"FSIQ ~ C(Gender)\", data = df_all).fit()"
   ]
  },
  {
   "cell_type": "code",
   "execution_count": 29,
   "metadata": {},
   "outputs": [
    {
     "data": {
      "text/html": [
       "<table class=\"simpletable\">\n",
       "<caption>OLS Regression Results</caption>\n",
       "<tr>\n",
       "  <th>Dep. Variable:</th>          <td>FSIQ</td>       <th>  R-squared:         </th> <td>   0.004</td>\n",
       "</tr>\n",
       "<tr>\n",
       "  <th>Model:</th>                   <td>OLS</td>       <th>  Adj. R-squared:    </th> <td>  -0.022</td>\n",
       "</tr>\n",
       "<tr>\n",
       "  <th>Method:</th>             <td>Least Squares</td>  <th>  F-statistic:       </th> <td>  0.1621</td>\n",
       "</tr>\n",
       "<tr>\n",
       "  <th>Date:</th>             <td>Tue, 05 Feb 2019</td> <th>  Prob (F-statistic):</th>  <td> 0.689</td> \n",
       "</tr>\n",
       "<tr>\n",
       "  <th>Time:</th>                 <td>15:25:13</td>     <th>  Log-Likelihood:    </th> <td> -183.42</td>\n",
       "</tr>\n",
       "<tr>\n",
       "  <th>No. Observations:</th>      <td>    40</td>      <th>  AIC:               </th> <td>   370.8</td>\n",
       "</tr>\n",
       "<tr>\n",
       "  <th>Df Residuals:</th>          <td>    38</td>      <th>  BIC:               </th> <td>   374.2</td>\n",
       "</tr>\n",
       "<tr>\n",
       "  <th>Df Model:</th>              <td>     1</td>      <th>                     </th>     <td> </td>   \n",
       "</tr>\n",
       "<tr>\n",
       "  <th>Covariance Type:</th>      <td>nonrobust</td>    <th>                     </th>     <td> </td>   \n",
       "</tr>\n",
       "</table>\n",
       "<table class=\"simpletable\">\n",
       "<tr>\n",
       "          <td></td>             <th>coef</th>     <th>std err</th>      <th>t</th>      <th>P>|t|</th>  <th>[0.025</th>    <th>0.975]</th>  \n",
       "</tr>\n",
       "<tr>\n",
       "  <th>Intercept</th>         <td>  111.9000</td> <td>    5.444</td> <td>   20.556</td> <td> 0.000</td> <td>  100.880</td> <td>  122.920</td>\n",
       "</tr>\n",
       "<tr>\n",
       "  <th>C(Gender)[T.Male]</th> <td>    3.1000</td> <td>    7.699</td> <td>    0.403</td> <td> 0.689</td> <td>  -12.485</td> <td>   18.685</td>\n",
       "</tr>\n",
       "</table>\n",
       "<table class=\"simpletable\">\n",
       "<tr>\n",
       "  <th>Omnibus:</th>       <td>104.117</td> <th>  Durbin-Watson:     </th> <td>   1.470</td>\n",
       "</tr>\n",
       "<tr>\n",
       "  <th>Prob(Omnibus):</th> <td> 0.000</td>  <th>  Jarque-Bera (JB):  </th> <td>   5.241</td>\n",
       "</tr>\n",
       "<tr>\n",
       "  <th>Skew:</th>          <td>-0.131</td>  <th>  Prob(JB):          </th> <td>  0.0728</td>\n",
       "</tr>\n",
       "<tr>\n",
       "  <th>Kurtosis:</th>      <td> 1.246</td>  <th>  Cond. No.          </th> <td>    2.62</td>\n",
       "</tr>\n",
       "</table><br/><br/>Warnings:<br/>[1] Standard Errors assume that the covariance matrix of the errors is correctly specified."
      ],
      "text/plain": [
       "<class 'statsmodels.iolib.summary.Summary'>\n",
       "\"\"\"\n",
       "                            OLS Regression Results                            \n",
       "==============================================================================\n",
       "Dep. Variable:                   FSIQ   R-squared:                       0.004\n",
       "Model:                            OLS   Adj. R-squared:                 -0.022\n",
       "Method:                 Least Squares   F-statistic:                    0.1621\n",
       "Date:                Tue, 05 Feb 2019   Prob (F-statistic):              0.689\n",
       "Time:                        15:25:13   Log-Likelihood:                -183.42\n",
       "No. Observations:                  40   AIC:                             370.8\n",
       "Df Residuals:                      38   BIC:                             374.2\n",
       "Df Model:                           1                                         \n",
       "Covariance Type:            nonrobust                                         \n",
       "=====================================================================================\n",
       "                        coef    std err          t      P>|t|      [0.025      0.975]\n",
       "-------------------------------------------------------------------------------------\n",
       "Intercept           111.9000      5.444     20.556      0.000     100.880     122.920\n",
       "C(Gender)[T.Male]     3.1000      7.699      0.403      0.689     -12.485      18.685\n",
       "==============================================================================\n",
       "Omnibus:                      104.117   Durbin-Watson:                   1.470\n",
       "Prob(Omnibus):                  0.000   Jarque-Bera (JB):                5.241\n",
       "Skew:                          -0.131   Prob(JB):                       0.0728\n",
       "Kurtosis:                       1.246   Cond. No.                         2.62\n",
       "==============================================================================\n",
       "\n",
       "Warnings:\n",
       "[1] Standard Errors assume that the covariance matrix of the errors is correctly specified.\n",
       "\"\"\""
      ]
     },
     "execution_count": 29,
     "metadata": {},
     "output_type": "execute_result"
    }
   ],
   "source": [
    "results.summary()"
   ]
  },
  {
   "cell_type": "code",
   "execution_count": 30,
   "metadata": {},
   "outputs": [
    {
     "name": "stdout",
     "output_type": "stream",
     "text": [
      "The adfsaf asdf , F(38.000000, 1.000000) = 0.162145 , p = 0.689446\n"
     ]
    }
   ],
   "source": [
    "print(\"The adfsaf asdf , F(%f, %f) = %f , p = %f\" %(results.df_resid, \n",
    "                                                    results.df_model,\n",
    "                                                    results.fvalue, \n",
    "                                                    results.f_pvalue))"
   ]
  },
  {
   "cell_type": "code",
   "execution_count": null,
   "metadata": {
    "scrolled": true
   },
   "outputs": [],
   "source": [
    "# Consider writing a function that writes out your results section for you!\n",
    "# You need to find the following bits of info from the above...\n",
    "\n",
    "# F(df effect, df error) = F-value, MSE = mean-square error, p-value\". \n",
    "# e.g., \"IQ scores did/didn't differ significantly between genders, F(X,XX) = XXXX, MSE = XXX, p = XXX.\n",
    "\n",
    "# You can find each of those individual bits of data by typing results. then hit tab and \n",
    "# you will be able to see all the methods that the results object contains!\n",
    "\n",
    "# For instance:\n",
    "\n",
    "#print(results.df_model)\n",
    "#print(results.df_resid)\n",
    "#print(results.fvalue)\n",
    "#print(results.f_pvalue)\n",
    "#print(results.mse_total)\n",
    "\n",
    "# Now you jsut need to put all that together..."
   ]
  },
  {
   "cell_type": "code",
   "execution_count": null,
   "metadata": {},
   "outputs": [],
   "source": [
    "def res_output(dv, iv, df):\n",
    "\n",
    "        # So first make two variables that represent the IV and DV\n",
    "        x = (\"~ C(%s)\" %iv)\n",
    "        y = str(dv + x)\n",
    "        \n",
    "        # Then make the model.\n",
    "        results = ols(y, data=df).fit()\n",
    "        \n",
    "        # Then make a statement which prints out an appropriate statement \n",
    "        # based on the p-value...\n",
    "        \n",
    "        if results.f_pvalue > 0.05:\n",
    "            \n",
    "            print(\"A one-way ANOVA was conducted to compare difference in %s between %s. We found no significant difference between %s,\\\n",
    "                   F(%f, %f) = %f , p = %f\" %(dv, iv, iv,\n",
    "                                              results.df_model, \n",
    "                                              results.df_resid,\n",
    "                                              results.fvalue, \n",
    "                                              results.f_pvalue))\n",
    "        else:\n",
    "            print(\"A one-way ANOVA was conducted to compare difference in %s between %s. We found a significant difference between %s\\\n",
    "                   F(%f, %f) = %f , p = %f\" %(dv, iv, iv,\n",
    "                                              results.df_model, \n",
    "                                              results.df_resid,\n",
    "                                              results.fvalue, \n",
    "                                              results.f_pvalue))\n",
    "        \n",
    "        # If you fancy, you can tell the function to return an output such as the\n",
    "        # summary table, if so, uncomment the bottom bit below...\n",
    "        \n",
    "        return results.summary()"
   ]
  },
  {
   "cell_type": "code",
   "execution_count": null,
   "metadata": {},
   "outputs": [],
   "source": [
    "# Now you can call your function and give it your arguments like below...\n",
    "\n",
    "res_output(dv = \"VIQ\", \n",
    "           iv = \"Gender\", \n",
    "           df = df_all) "
   ]
  },
  {
   "cell_type": "markdown",
   "metadata": {},
   "source": [
    "# Machine Learning - Would you survive the titanic?!"
   ]
  },
  {
   "cell_type": "markdown",
   "metadata": {
    "collapsed": true
   },
   "source": [
    "To learn the concept of machine learning (ML), lets predict if YOU would survive the titanic based on the passenger and survival history.\n",
    "\n",
    "Python has a powerful library called sci-kit learn (sklearn) which does everything for you!"
   ]
  },
  {
   "cell_type": "code",
   "execution_count": 31,
   "metadata": {},
   "outputs": [],
   "source": [
    "#Load up the titanic3.xls into a pandas dataframe\n",
    "\n",
    "titanic_df = pd.read_excel('titanic3.xls', 'titanic3', na_values=['NA'])"
   ]
  },
  {
   "cell_type": "markdown",
   "metadata": {},
   "source": [
    "The columns refer to:\n",
    "\n",
    "- survival - Survival (0 = No; 1 = Yes)\n",
    "- pclass - Passenger Class (1 = 1st; 2 = 2nd; 3 = 3rd)\n",
    "- name - Name\n",
    "- sex - Sex\n",
    "- age - Age\n",
    "- sibsp - Number of Siblings/Spouses Aboard\n",
    "- parch - Number of Parents/Children Aboard\n",
    "- ticket - Ticket Number\n",
    "- fare - Passenger Fare\n",
    "- cabin - Cabin\n",
    "- embarked - Port of Embarkation (C = Cherbourg; Q = Queenstown; S = Southampton)\n",
    "- boat - Lifeboat (if survived)\n",
    "- body - Body number (if did not survive and body was recovered)\n",
    "- home.dest - home destination"
   ]
  },
  {
   "cell_type": "code",
   "execution_count": 32,
   "metadata": {
    "scrolled": true
   },
   "outputs": [
    {
     "data": {
      "text/html": [
       "<div>\n",
       "<style scoped>\n",
       "    .dataframe tbody tr th:only-of-type {\n",
       "        vertical-align: middle;\n",
       "    }\n",
       "\n",
       "    .dataframe tbody tr th {\n",
       "        vertical-align: top;\n",
       "    }\n",
       "\n",
       "    .dataframe thead th {\n",
       "        text-align: right;\n",
       "    }\n",
       "</style>\n",
       "<table border=\"1\" class=\"dataframe\">\n",
       "  <thead>\n",
       "    <tr style=\"text-align: right;\">\n",
       "      <th></th>\n",
       "      <th>pclass</th>\n",
       "      <th>survived</th>\n",
       "      <th>name</th>\n",
       "      <th>sex</th>\n",
       "      <th>age</th>\n",
       "      <th>sibsp</th>\n",
       "      <th>parch</th>\n",
       "      <th>ticket</th>\n",
       "      <th>fare</th>\n",
       "      <th>cabin</th>\n",
       "      <th>embarked</th>\n",
       "      <th>boat</th>\n",
       "      <th>body</th>\n",
       "      <th>home.dest</th>\n",
       "    </tr>\n",
       "  </thead>\n",
       "  <tbody>\n",
       "    <tr>\n",
       "      <th>0</th>\n",
       "      <td>1</td>\n",
       "      <td>1</td>\n",
       "      <td>Allen, Miss. Elisabeth Walton</td>\n",
       "      <td>female</td>\n",
       "      <td>29.0000</td>\n",
       "      <td>0</td>\n",
       "      <td>0</td>\n",
       "      <td>24160</td>\n",
       "      <td>211.3375</td>\n",
       "      <td>B5</td>\n",
       "      <td>S</td>\n",
       "      <td>2</td>\n",
       "      <td>NaN</td>\n",
       "      <td>St Louis, MO</td>\n",
       "    </tr>\n",
       "    <tr>\n",
       "      <th>1</th>\n",
       "      <td>1</td>\n",
       "      <td>1</td>\n",
       "      <td>Allison, Master. Hudson Trevor</td>\n",
       "      <td>male</td>\n",
       "      <td>0.9167</td>\n",
       "      <td>1</td>\n",
       "      <td>2</td>\n",
       "      <td>113781</td>\n",
       "      <td>151.5500</td>\n",
       "      <td>C22 C26</td>\n",
       "      <td>S</td>\n",
       "      <td>11</td>\n",
       "      <td>NaN</td>\n",
       "      <td>Montreal, PQ / Chesterville, ON</td>\n",
       "    </tr>\n",
       "    <tr>\n",
       "      <th>2</th>\n",
       "      <td>1</td>\n",
       "      <td>0</td>\n",
       "      <td>Allison, Miss. Helen Loraine</td>\n",
       "      <td>female</td>\n",
       "      <td>2.0000</td>\n",
       "      <td>1</td>\n",
       "      <td>2</td>\n",
       "      <td>113781</td>\n",
       "      <td>151.5500</td>\n",
       "      <td>C22 C26</td>\n",
       "      <td>S</td>\n",
       "      <td>NaN</td>\n",
       "      <td>NaN</td>\n",
       "      <td>Montreal, PQ / Chesterville, ON</td>\n",
       "    </tr>\n",
       "    <tr>\n",
       "      <th>3</th>\n",
       "      <td>1</td>\n",
       "      <td>0</td>\n",
       "      <td>Allison, Mr. Hudson Joshua Creighton</td>\n",
       "      <td>male</td>\n",
       "      <td>30.0000</td>\n",
       "      <td>1</td>\n",
       "      <td>2</td>\n",
       "      <td>113781</td>\n",
       "      <td>151.5500</td>\n",
       "      <td>C22 C26</td>\n",
       "      <td>S</td>\n",
       "      <td>NaN</td>\n",
       "      <td>135.0</td>\n",
       "      <td>Montreal, PQ / Chesterville, ON</td>\n",
       "    </tr>\n",
       "    <tr>\n",
       "      <th>4</th>\n",
       "      <td>1</td>\n",
       "      <td>0</td>\n",
       "      <td>Allison, Mrs. Hudson J C (Bessie Waldo Daniels)</td>\n",
       "      <td>female</td>\n",
       "      <td>25.0000</td>\n",
       "      <td>1</td>\n",
       "      <td>2</td>\n",
       "      <td>113781</td>\n",
       "      <td>151.5500</td>\n",
       "      <td>C22 C26</td>\n",
       "      <td>S</td>\n",
       "      <td>NaN</td>\n",
       "      <td>NaN</td>\n",
       "      <td>Montreal, PQ / Chesterville, ON</td>\n",
       "    </tr>\n",
       "  </tbody>\n",
       "</table>\n",
       "</div>"
      ],
      "text/plain": [
       "   pclass  survived                                             name     sex  \\\n",
       "0       1         1                    Allen, Miss. Elisabeth Walton  female   \n",
       "1       1         1                   Allison, Master. Hudson Trevor    male   \n",
       "2       1         0                     Allison, Miss. Helen Loraine  female   \n",
       "3       1         0             Allison, Mr. Hudson Joshua Creighton    male   \n",
       "4       1         0  Allison, Mrs. Hudson J C (Bessie Waldo Daniels)  female   \n",
       "\n",
       "       age  sibsp  parch  ticket      fare    cabin embarked boat   body  \\\n",
       "0  29.0000      0      0   24160  211.3375       B5        S    2    NaN   \n",
       "1   0.9167      1      2  113781  151.5500  C22 C26        S   11    NaN   \n",
       "2   2.0000      1      2  113781  151.5500  C22 C26        S  NaN    NaN   \n",
       "3  30.0000      1      2  113781  151.5500  C22 C26        S  NaN  135.0   \n",
       "4  25.0000      1      2  113781  151.5500  C22 C26        S  NaN    NaN   \n",
       "\n",
       "                         home.dest  \n",
       "0                     St Louis, MO  \n",
       "1  Montreal, PQ / Chesterville, ON  \n",
       "2  Montreal, PQ / Chesterville, ON  \n",
       "3  Montreal, PQ / Chesterville, ON  \n",
       "4  Montreal, PQ / Chesterville, ON  "
      ]
     },
     "execution_count": 32,
     "metadata": {},
     "output_type": "execute_result"
    }
   ],
   "source": [
    "titanic_df.head()"
   ]
  },
  {
   "cell_type": "markdown",
   "metadata": {
    "collapsed": true
   },
   "source": [
    "Firstly lets explore the dataset,\n",
    "\n",
    "What was the survival rate?\n",
    "Can you make a table of gender vs. class and survival.\n",
    "Can you plot what you are interested in."
   ]
  },
  {
   "cell_type": "code",
   "execution_count": 33,
   "metadata": {},
   "outputs": [
    {
     "data": {
      "text/plain": [
       "38.19709702062643"
      ]
     },
     "execution_count": 33,
     "metadata": {},
     "output_type": "execute_result"
    }
   ],
   "source": [
    "titanic_df['survived'].mean()*100"
   ]
  },
  {
   "cell_type": "code",
   "execution_count": 34,
   "metadata": {},
   "outputs": [
    {
     "data": {
      "text/plain": [
       "sex     pclass\n",
       "female  1         96.527778\n",
       "        2         88.679245\n",
       "        3         49.074074\n",
       "male    1         34.078212\n",
       "        2         14.619883\n",
       "        3         15.212982\n",
       "Name: survived, dtype: float64"
      ]
     },
     "execution_count": 34,
     "metadata": {},
     "output_type": "execute_result"
    }
   ],
   "source": [
    "titanic_df.groupby(['sex', 'pclass']).mean()['survived']*100"
   ]
  },
  {
   "cell_type": "code",
   "execution_count": 35,
   "metadata": {},
   "outputs": [
    {
     "name": "stderr",
     "output_type": "stream",
     "text": [
      "C:\\Users\\K1774755\\anaconda3\\lib\\site-packages\\seaborn\\categorical.py:3666: UserWarning: The `factorplot` function has been renamed to `catplot`. The original name will be removed in a future release. Please update your code. Note that the default `kind` in `factorplot` (`'point'`) has changed `'strip'` in `catplot`.\n",
      "  warnings.warn(msg)\n",
      "C:\\Users\\K1774755\\anaconda3\\lib\\site-packages\\scipy\\stats\\stats.py:1713: FutureWarning: Using a non-tuple sequence for multidimensional indexing is deprecated; use `arr[tuple(seq)]` instead of `arr[seq]`. In the future this will be interpreted as an array index, `arr[np.array(seq)]`, which will result either in an error or a different result.\n",
      "  return np.add.reduce(sorted[indexer] * weights, axis=axis) / sumval\n"
     ]
    },
    {
     "data": {
      "text/plain": [
       "<seaborn.axisgrid.FacetGrid at 0x203bf947cc0>"
      ]
     },
     "execution_count": 35,
     "metadata": {},
     "output_type": "execute_result"
    },
    {
     "data": {
      "image/png": "[encoded data removed]",
      "text/plain": [
       "<Figure size 720x360 with 1 Axes>"
      ]
     },
     "metadata": {
      "needs_background": "light"
     },
     "output_type": "display_data"
    }
   ],
   "source": [
    "sns.factorplot(data = titanic_df, x = 'sibsp', y = 'parch', aspect = 2)"
   ]
  },
  {
   "cell_type": "markdown",
   "metadata": {
    "collapsed": true
   },
   "source": [
    "What features (aka columns) do you think will be important for us to predict survival?"
   ]
  },
  {
   "cell_type": "code",
   "execution_count": 36,
   "metadata": {},
   "outputs": [],
   "source": [
    "# We can drop some columns..\n",
    "\n",
    "titanic_df = titanic_df.drop(['body','cabin','boat', 'home.dest' , 'embarked'], axis=1)"
   ]
  },
  {
   "cell_type": "code",
   "execution_count": 37,
   "metadata": {},
   "outputs": [],
   "source": [
    "# lets clean the data in prep for ML...\n",
    "# ML models works only with numbers, can anyone see an issue with the dataset?\n",
    "\n",
    "titanic_df['sex'] = titanic_df['sex'].map({'female': 1, 'male': 0})\n"
   ]
  },
  {
   "cell_type": "code",
   "execution_count": 38,
   "metadata": {},
   "outputs": [
    {
     "data": {
      "text/html": [
       "<div>\n",
       "<style scoped>\n",
       "    .dataframe tbody tr th:only-of-type {\n",
       "        vertical-align: middle;\n",
       "    }\n",
       "\n",
       "    .dataframe tbody tr th {\n",
       "        vertical-align: top;\n",
       "    }\n",
       "\n",
       "    .dataframe thead th {\n",
       "        text-align: right;\n",
       "    }\n",
       "</style>\n",
       "<table border=\"1\" class=\"dataframe\">\n",
       "  <thead>\n",
       "    <tr style=\"text-align: right;\">\n",
       "      <th></th>\n",
       "      <th>pclass</th>\n",
       "      <th>survived</th>\n",
       "      <th>name</th>\n",
       "      <th>sex</th>\n",
       "      <th>age</th>\n",
       "      <th>sibsp</th>\n",
       "      <th>parch</th>\n",
       "      <th>ticket</th>\n",
       "      <th>fare</th>\n",
       "    </tr>\n",
       "  </thead>\n",
       "  <tbody>\n",
       "    <tr>\n",
       "      <th>0</th>\n",
       "      <td>1</td>\n",
       "      <td>1</td>\n",
       "      <td>Allen, Miss. Elisabeth Walton</td>\n",
       "      <td>1</td>\n",
       "      <td>29.0000</td>\n",
       "      <td>0</td>\n",
       "      <td>0</td>\n",
       "      <td>24160</td>\n",
       "      <td>211.3375</td>\n",
       "    </tr>\n",
       "    <tr>\n",
       "      <th>1</th>\n",
       "      <td>1</td>\n",
       "      <td>1</td>\n",
       "      <td>Allison, Master. Hudson Trevor</td>\n",
       "      <td>0</td>\n",
       "      <td>0.9167</td>\n",
       "      <td>1</td>\n",
       "      <td>2</td>\n",
       "      <td>113781</td>\n",
       "      <td>151.5500</td>\n",
       "    </tr>\n",
       "  </tbody>\n",
       "</table>\n",
       "</div>"
      ],
      "text/plain": [
       "   pclass  survived                            name  sex      age  sibsp  \\\n",
       "0       1         1   Allen, Miss. Elisabeth Walton    1  29.0000      0   \n",
       "1       1         1  Allison, Master. Hudson Trevor    0   0.9167      1   \n",
       "\n",
       "   parch  ticket      fare  \n",
       "0      0   24160  211.3375  \n",
       "1      2  113781  151.5500  "
      ]
     },
     "execution_count": 38,
     "metadata": {},
     "output_type": "execute_result"
    }
   ],
   "source": [
    "titanic_df.head(2)"
   ]
  },
  {
   "cell_type": "code",
   "execution_count": 39,
   "metadata": {},
   "outputs": [],
   "source": [
    "# ML also doesn't work with missing values, so we can impute them...\n",
    "# for this demonstration, I'm just going to get rid of empty data\n",
    "\n",
    "titanic_df.dropna(inplace=True)"
   ]
  },
  {
   "cell_type": "code",
   "execution_count": 40,
   "metadata": {},
   "outputs": [
    {
     "data": {
      "text/html": [
       "<div>\n",
       "<style scoped>\n",
       "    .dataframe tbody tr th:only-of-type {\n",
       "        vertical-align: middle;\n",
       "    }\n",
       "\n",
       "    .dataframe tbody tr th {\n",
       "        vertical-align: top;\n",
       "    }\n",
       "\n",
       "    .dataframe thead th {\n",
       "        text-align: right;\n",
       "    }\n",
       "</style>\n",
       "<table border=\"1\" class=\"dataframe\">\n",
       "  <thead>\n",
       "    <tr style=\"text-align: right;\">\n",
       "      <th></th>\n",
       "      <th>pclass</th>\n",
       "      <th>survived</th>\n",
       "      <th>name</th>\n",
       "      <th>sex</th>\n",
       "      <th>age</th>\n",
       "      <th>sibsp</th>\n",
       "      <th>parch</th>\n",
       "      <th>ticket</th>\n",
       "      <th>fare</th>\n",
       "    </tr>\n",
       "  </thead>\n",
       "  <tbody>\n",
       "  </tbody>\n",
       "</table>\n",
       "</div>"
      ],
      "text/plain": [
       "Empty DataFrame\n",
       "Columns: [pclass, survived, name, sex, age, sibsp, parch, ticket, fare]\n",
       "Index: []"
      ]
     },
     "execution_count": 40,
     "metadata": {},
     "output_type": "execute_result"
    }
   ],
   "source": [
    "#lets see if we have any missing rows...\n",
    "\n",
    "titanic_df[titanic_df.isnull().any(axis=1)]"
   ]
  },
  {
   "cell_type": "markdown",
   "metadata": {},
   "source": [
    "Now lets create our features and response variables (X and y) "
   ]
  },
  {
   "cell_type": "code",
   "execution_count": 55,
   "metadata": {},
   "outputs": [],
   "source": [
    "# store the feature matrix (X) and response vector (y)\n",
    "\n",
    "X = titanic_df[['pclass', 'sex', 'age', 'sibsp', 'parch', 'fare']]\n",
    "\n",
    "y = titanic_df['survived']"
   ]
  },
  {
   "cell_type": "code",
   "execution_count": null,
   "metadata": {
    "scrolled": true
   },
   "outputs": [],
   "source": [
    "# check the shapes of X and y to make sure the number of rows match up\n",
    "# why is this important?\n",
    "\n",
    "print(X.shape)\n",
    "print(y.shape)"
   ]
  },
  {
   "cell_type": "code",
   "execution_count": 42,
   "metadata": {},
   "outputs": [
    {
     "data": {
      "text/html": [
       "<div>\n",
       "<style scoped>\n",
       "    .dataframe tbody tr th:only-of-type {\n",
       "        vertical-align: middle;\n",
       "    }\n",
       "\n",
       "    .dataframe tbody tr th {\n",
       "        vertical-align: top;\n",
       "    }\n",
       "\n",
       "    .dataframe thead th {\n",
       "        text-align: right;\n",
       "    }\n",
       "</style>\n",
       "<table border=\"1\" class=\"dataframe\">\n",
       "  <thead>\n",
       "    <tr style=\"text-align: right;\">\n",
       "      <th></th>\n",
       "      <th>pclass</th>\n",
       "      <th>sex</th>\n",
       "      <th>age</th>\n",
       "      <th>sibsp</th>\n",
       "      <th>parch</th>\n",
       "      <th>fare</th>\n",
       "    </tr>\n",
       "  </thead>\n",
       "  <tbody>\n",
       "    <tr>\n",
       "      <th>0</th>\n",
       "      <td>1</td>\n",
       "      <td>1</td>\n",
       "      <td>29.0000</td>\n",
       "      <td>0</td>\n",
       "      <td>0</td>\n",
       "      <td>211.3375</td>\n",
       "    </tr>\n",
       "    <tr>\n",
       "      <th>1</th>\n",
       "      <td>1</td>\n",
       "      <td>0</td>\n",
       "      <td>0.9167</td>\n",
       "      <td>1</td>\n",
       "      <td>2</td>\n",
       "      <td>151.5500</td>\n",
       "    </tr>\n",
       "    <tr>\n",
       "      <th>2</th>\n",
       "      <td>1</td>\n",
       "      <td>1</td>\n",
       "      <td>2.0000</td>\n",
       "      <td>1</td>\n",
       "      <td>2</td>\n",
       "      <td>151.5500</td>\n",
       "    </tr>\n",
       "    <tr>\n",
       "      <th>3</th>\n",
       "      <td>1</td>\n",
       "      <td>0</td>\n",
       "      <td>30.0000</td>\n",
       "      <td>1</td>\n",
       "      <td>2</td>\n",
       "      <td>151.5500</td>\n",
       "    </tr>\n",
       "    <tr>\n",
       "      <th>4</th>\n",
       "      <td>1</td>\n",
       "      <td>1</td>\n",
       "      <td>25.0000</td>\n",
       "      <td>1</td>\n",
       "      <td>2</td>\n",
       "      <td>151.5500</td>\n",
       "    </tr>\n",
       "  </tbody>\n",
       "</table>\n",
       "</div>"
      ],
      "text/plain": [
       "   pclass  sex      age  sibsp  parch      fare\n",
       "0       1    1  29.0000      0      0  211.3375\n",
       "1       1    0   0.9167      1      2  151.5500\n",
       "2       1    1   2.0000      1      2  151.5500\n",
       "3       1    0  30.0000      1      2  151.5500\n",
       "4       1    1  25.0000      1      2  151.5500"
      ]
     },
     "execution_count": 42,
     "metadata": {},
     "output_type": "execute_result"
    }
   ],
   "source": [
    "# lets look at our features.. can anyone see what's wrong here?\n",
    "X.head()"
   ]
  },
  {
   "cell_type": "code",
   "execution_count": 43,
   "metadata": {
    "scrolled": true
   },
   "outputs": [
    {
     "data": {
      "text/plain": [
       "0       1\n",
       "1       1\n",
       "2       0\n",
       "3       0\n",
       "4       0\n",
       "5       1\n",
       "6       1\n",
       "7       0\n",
       "8       1\n",
       "9       0\n",
       "10      0\n",
       "11      1\n",
       "12      1\n",
       "13      1\n",
       "14      1\n",
       "16      0\n",
       "17      1\n",
       "18      1\n",
       "19      0\n",
       "20      1\n",
       "21      1\n",
       "22      1\n",
       "23      1\n",
       "24      1\n",
       "25      0\n",
       "26      1\n",
       "27      1\n",
       "28      1\n",
       "29      1\n",
       "30      0\n",
       "       ..\n",
       "1269    0\n",
       "1270    0\n",
       "1271    0\n",
       "1272    0\n",
       "1273    0\n",
       "1274    0\n",
       "1275    0\n",
       "1276    0\n",
       "1277    1\n",
       "1278    0\n",
       "1279    0\n",
       "1280    0\n",
       "1281    0\n",
       "1285    0\n",
       "1286    1\n",
       "1287    0\n",
       "1288    0\n",
       "1289    0\n",
       "1290    1\n",
       "1294    0\n",
       "1295    0\n",
       "1296    0\n",
       "1298    0\n",
       "1299    0\n",
       "1300    1\n",
       "1301    0\n",
       "1304    0\n",
       "1306    0\n",
       "1307    0\n",
       "1308    0\n",
       "Name: survived, Length: 1045, dtype: int64"
      ]
     },
     "execution_count": 43,
     "metadata": {},
     "output_type": "execute_result"
    }
   ],
   "source": [
    "# lets look at y\n",
    "y"
   ]
  },
  {
   "cell_type": "markdown",
   "metadata": {
    "collapsed": true
   },
   "source": [
    "### 4 steps to ML in Python... IIFP\n",
    "\n",
    "#### (1) Import\n",
    "#### (2) Instantiate\n",
    "#### (3) Fit\n",
    "#### (4) Predict"
   ]
  },
  {
   "cell_type": "code",
   "execution_count": 56,
   "metadata": {},
   "outputs": [],
   "source": [
    "# (1) import the class, in this case we will use k-neighbours\n",
    "\n",
    "from sklearn.neighbors import KNeighborsClassifier"
   ]
  },
  {
   "cell_type": "code",
   "execution_count": 57,
   "metadata": {},
   "outputs": [],
   "source": [
    "# (2) instantiate the model (with the default parameters)\n",
    "\n",
    "knn = KNeighborsClassifier(n_neighbors=25)#weights = 'uniform')"
   ]
  },
  {
   "cell_type": "code",
   "execution_count": 58,
   "metadata": {},
   "outputs": [
    {
     "data": {
      "text/plain": [
       "KNeighborsClassifier(algorithm='auto', leaf_size=30, metric='minkowski',\n",
       "           metric_params=None, n_jobs=None, n_neighbors=25, p=2,\n",
       "           weights='uniform')"
      ]
     },
     "execution_count": 58,
     "metadata": {},
     "output_type": "execute_result"
    }
   ],
   "source": [
    "# (3) fit the model with data (occurs in-place)\n",
    "\n",
    "knn.fit(X, y)\n",
    "#knn.score(X, y)"
   ]
  },
  {
   "cell_type": "code",
   "execution_count": 47,
   "metadata": {},
   "outputs": [
    {
     "data": {
      "text/plain": [
       "Index(['pclass', 'sex', 'age', 'sibsp', 'parch', 'fare'], dtype='object')"
      ]
     },
     "execution_count": 47,
     "metadata": {},
     "output_type": "execute_result"
    }
   ],
   "source": [
    "X.columns"
   ]
  },
  {
   "cell_type": "code",
   "execution_count": 59,
   "metadata": {},
   "outputs": [
    {
     "data": {
      "text/plain": [
       "array([1], dtype=int64)"
      ]
     },
     "execution_count": 59,
     "metadata": {},
     "output_type": "execute_result"
    }
   ],
   "source": [
    "# (4) Predict\n",
    "# Enter your data in the same order of the X columns:\n",
    "# There should be 6 numbers:\n",
    "\n",
    "knn.predict([[2, 0, 32, 0, 1, 32]])"
   ]
  },
  {
   "cell_type": "code",
   "execution_count": 60,
   "metadata": {},
   "outputs": [
    {
     "data": {
      "text/plain": [
       "array([1], dtype=int64)"
      ]
     },
     "execution_count": 60,
     "metadata": {},
     "output_type": "execute_result"
    }
   ],
   "source": [
    "knn.predict([[2, 1, 32, 0, 1, 32]])"
   ]
  },
  {
   "cell_type": "markdown",
   "metadata": {},
   "source": [
    "We can see that the model has predicted that the new observation’s class is 0 (i.e. I wouldn't have survived!)."
   ]
  },
  {
   "cell_type": "markdown",
   "metadata": {},
   "source": [
    "We can even look at the probabilities the model assigned to each class to see how confident it is:"
   ]
  },
  {
   "cell_type": "code",
   "execution_count": 61,
   "metadata": {},
   "outputs": [
    {
     "data": {
      "text/plain": [
       "array([[0.48, 0.52]])"
      ]
     },
     "execution_count": 61,
     "metadata": {},
     "output_type": "execute_result"
    }
   ],
   "source": [
    "knn.predict_proba([[2, 0, 32, 0, 1, 32]])"
   ]
  },
  {
   "cell_type": "markdown",
   "metadata": {},
   "source": [
    "According to this result, the model predicted that the observation was dead with a ~52% probability and survive with a ~48% probability. \n",
    "\n",
    "Because the observation had a greater probability of being dead, it predicted that class for the observation."
   ]
  },
  {
   "cell_type": "markdown",
   "metadata": {},
   "source": [
    "Lets try another model (Random Forest) but you can experiment with many more..."
   ]
  },
  {
   "cell_type": "markdown",
   "metadata": {},
   "source": [
    "- Random Forest\n",
    "- Perceptron\n",
    "- SGDC\n",
    "- Decision tree\n"
   ]
  },
  {
   "cell_type": "code",
   "execution_count": null,
   "metadata": {
    "collapsed": true
   },
   "outputs": [],
   "source": [
    "# First (1) import\n",
    "from sklearn.ensemble import RandomForestClassifier\n",
    "#from sklearn.linear_model import Perceptron\n",
    "#from sklearn.linear_model import SGDClassifier\n",
    "#from sklearn.tree import DecisionTreeClassifier"
   ]
  },
  {
   "cell_type": "code",
   "execution_count": null,
   "metadata": {
    "collapsed": true
   },
   "outputs": [],
   "source": [
    "# Then (2) instantiate\n",
    "random_forest = RandomForestClassifier(n_estimators=100)"
   ]
  },
  {
   "cell_type": "code",
   "execution_count": null,
   "metadata": {
    "collapsed": true
   },
   "outputs": [],
   "source": [
    "# Then (3) fit\n",
    "\n",
    "random_forest.fit(X, y);"
   ]
  },
  {
   "cell_type": "code",
   "execution_count": null,
   "metadata": {},
   "outputs": [],
   "source": [
    "# Then (4) predict\n",
    "\n",
    "random_forest.predict([[2, 0, 32, 0, 1, 35.23]])"
   ]
  },
  {
   "cell_type": "code",
   "execution_count": null,
   "metadata": {},
   "outputs": [],
   "source": [
    "random_forest.predict_proba([[2, 0, 32, 0, 1, 35.23]])"
   ]
  },
  {
   "cell_type": "markdown",
   "metadata": {},
   "source": [
    "Lets see which of our features were the most important to this model:"
   ]
  },
  {
   "cell_type": "code",
   "execution_count": null,
   "metadata": {},
   "outputs": [],
   "source": [
    "# Make a dataframe\n",
    "importances = pd.DataFrame({'feature':X.columns,\n",
    "                            'importance': random_forest.feature_importances_})\n",
    "\n",
    "# Sort the value, set the index \n",
    "importances = importances.sort_values('importance',ascending=False).set_index('feature')\n",
    "\n",
    "# Display the first 15 rows of the dataframe\n",
    "importances.head(15)"
   ]
  },
  {
   "cell_type": "code",
   "execution_count": null,
   "metadata": {},
   "outputs": [],
   "source": [
    "0.296 + 0.286 + 0.258 + 0.083 + 0.041 +0.036"
   ]
  },
  {
   "cell_type": "code",
   "execution_count": null,
   "metadata": {},
   "outputs": [],
   "source": [
    "importances.importance.sum()"
   ]
  },
  {
   "cell_type": "code",
   "execution_count": null,
   "metadata": {},
   "outputs": [],
   "source": [
    "importances.plot.bar()"
   ]
  },
  {
   "cell_type": "code",
   "execution_count": null,
   "metadata": {},
   "outputs": [],
   "source": [
    "random_forest.score(X, y)"
   ]
  },
  {
   "cell_type": "code",
   "execution_count": null,
   "metadata": {
    "collapsed": true
   },
   "outputs": [],
   "source": []
  },
  {
   "cell_type": "code",
   "execution_count": null,
   "metadata": {
    "collapsed": true
   },
   "outputs": [],
   "source": []
  },
  {
   "cell_type": "code",
   "execution_count": null,
   "metadata": {
    "collapsed": true
   },
   "outputs": [],
   "source": []
  }
 ],
 "metadata": {
  "kernelspec": {
   "display_name": "Python 3",
   "language": "python",
   "name": "python3"
  },
  "language_info": {
   "codemirror_mode": {
    "name": "ipython",
    "version": 3
   },
   "file_extension": ".py",
   "mimetype": "text/x-python",
   "name": "python",
   "nbconvert_exporter": "python",
   "pygments_lexer": "ipython3",
   "version": "3.7.3"
  }
 },
 "nbformat": 4,
 "nbformat_minor": 2
}
